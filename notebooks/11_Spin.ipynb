{
 "cells": [
  {
   "cell_type": "markdown",
   "metadata": {},
   "source": [
    "# Quantum Computation with Rotations!\n",
    "\n",
    "\"Stellar Representation of Grassmannians\" arXiv:1909.02592v1\n",
    "\n",
    "\"Toponomic Quantum Computation\" arXiv:2202.01973v1"
   ]
  },
  {
   "cell_type": "code",
   "execution_count": 1,
   "metadata": {},
   "outputs": [
    {
     "data": {
      "text/html": [
       "<div id=\"glowscript\" class=\"glowscript\"></div>"
      ],
      "text/plain": [
       "<IPython.core.display.HTML object>"
      ]
     },
     "metadata": {},
     "output_type": "display_data"
    },
    {
     "data": {
      "application/javascript": "if (typeof Jupyter !== \"undefined\") { window.__context = { glowscript_container: $(\"#glowscript\").removeAttr(\"id\")};}else{ element.textContent = ' ';}",
      "text/plain": [
       "<IPython.core.display.Javascript object>"
      ]
     },
     "metadata": {},
     "output_type": "display_data"
    }
   ],
   "source": [
    "from qbuki import *\n",
    "import vpython as vp"
   ]
  },
  {
   "cell_type": "markdown",
   "metadata": {},
   "source": [
    "## Majorana Polynomial"
   ]
  },
  {
   "cell_type": "code",
   "execution_count": 2,
   "metadata": {},
   "outputs": [],
   "source": [
    "def viz_projective_stars(n, poly):\n",
    "    pass\n",
    "    #scene = vp.canvas(background=vp.color.white)\n",
    "    #vp.sphere(color=vp.color.blue, opacity=0.2)\n",
    "    #[vp.sphere(radius=0.1, pos=vp.vector(*star)) for star in projective_stars(n, poly)]\n",
    "    \n",
    "def viz_majorana_stars(ket):\n",
    "    #viz_projective_stars(len(ket)-1, majorana_polynomial(ket))\n",
    "    pass"
   ]
  },
  {
   "cell_type": "markdown",
   "metadata": {},
   "source": [
    "### Example 1. A spin-2 constellation"
   ]
  },
  {
   "cell_type": "code",
   "execution_count": 3,
   "metadata": {},
   "outputs": [
    {
     "data": {
      "text/plain": [
       "array([0.577, 0.   , 0.   , 0.816, 0.   ])"
      ]
     },
     "execution_count": 3,
     "metadata": {},
     "output_type": "execute_result"
    }
   ],
   "source": [
    "psi_tetra = np.array([1,0,0,np.sqrt(2),0])/np.sqrt(3); psi_tetra"
   ]
  },
  {
   "cell_type": "code",
   "execution_count": 4,
   "metadata": {},
   "outputs": [
    {
     "data": {
      "text/latex": [
       "$x \\mapsto \\color{LightGray}{\\text{0.0}} - \\text{1.6329931618554523}\\,x\\color{LightGray}{ + \\text{0.0}\\,x^{2}}\\color{LightGray}{ + \\text{0.0}\\,x^{3}} + \\text{0.5773502691896258}\\,x^{4}$"
      ],
      "text/plain": [
       "Polynomial([ 0.   , -1.633,  0.   ,  0.   ,  0.577], domain=[-1,  1], window=[-1,  1])"
      ]
     },
     "execution_count": 4,
     "metadata": {},
     "output_type": "execute_result"
    }
   ],
   "source": [
    "majorana_polynomial(psi_tetra)"
   ]
  },
  {
   "cell_type": "code",
   "execution_count": 5,
   "metadata": {},
   "outputs": [
    {
     "data": {
      "text/plain": [
       "array([-0.707-1.225j, -0.707+1.225j,  0.   +0.j   ,  1.414+0.j   ])"
      ]
     },
     "execution_count": 5,
     "metadata": {},
     "output_type": "execute_result"
    }
   ],
   "source": [
    "majorana_roots(psi_tetra)"
   ]
  },
  {
   "cell_type": "code",
   "execution_count": 6,
   "metadata": {},
   "outputs": [
    {
     "data": {
      "text/plain": [
       "array([[-0.471, -0.816, -0.333],\n",
       "       [-0.471,  0.816, -0.333],\n",
       "       [ 0.   ,  0.   ,  1.   ],\n",
       "       [ 0.943,  0.   , -0.333]])"
      ]
     },
     "execution_count": 6,
     "metadata": {},
     "output_type": "execute_result"
    }
   ],
   "source": [
    "majorana_stars(psi_tetra)"
   ]
  },
  {
   "cell_type": "code",
   "execution_count": 7,
   "metadata": {},
   "outputs": [],
   "source": [
    "viz_majorana_stars(psi_tetra)"
   ]
  },
  {
   "cell_type": "markdown",
   "metadata": {},
   "source": [
    "## Some tools for Grassmannians"
   ]
  },
  {
   "cell_type": "code",
   "execution_count": 8,
   "metadata": {},
   "outputs": [
    {
     "name": "stdout",
     "output_type": "stream",
     "text": [
      "[[ 0.218+0.234j -0.528-0.364j  0.684-0.067j  0.041+0.108j]\n",
      " [-0.482+0.673j -0.065+0.219j -0.064-0.099j  0.488+0.102j]]\n"
     ]
    }
   ],
   "source": [
    "G = random_grassmannian(2, 4)\n",
    "print(G)"
   ]
  },
  {
   "cell_type": "code",
   "execution_count": 9,
   "metadata": {},
   "outputs": [
    {
     "name": "stdout",
     "output_type": "stream",
     "text": [
      "[[1.+0.j 0.+0.j]\n",
      " [0.-0.j 1.+0.j]]\n"
     ]
    }
   ],
   "source": [
    "print(G @ G.conj().T)"
   ]
  },
  {
   "cell_type": "code",
   "execution_count": 10,
   "metadata": {},
   "outputs": [
    {
     "name": "stdout",
     "output_type": "stream",
     "text": [
      "[[ 1.   -0.j    -0.   +0.j     0.089-0.106j -0.164-0.476j]\n",
      " [ 0.   +0.j     1.   -0.j    -0.765+0.649j -0.177-0.352j]]\n"
     ]
    }
   ],
   "source": [
    "print(standard_grassmannian_form(G))"
   ]
  },
  {
   "cell_type": "code",
   "execution_count": 11,
   "metadata": {},
   "outputs": [
    {
     "name": "stdout",
     "output_type": "stream",
     "text": [
      "[-0.565+0.213j  0.294-0.529j  0.175+0.161j  0.028-0.079j -0.194-0.234j\n",
      "  0.333+0.049j]\n"
     ]
    }
   ],
   "source": [
    "c = plucker_coordinates(G);\n",
    "print(c)"
   ]
  },
  {
   "cell_type": "code",
   "execution_count": 12,
   "metadata": {},
   "outputs": [
    {
     "name": "stdout",
     "output_type": "stream",
     "text": [
      "[[ 0.  1.  0.  0. -1.  0.  0.  0.  0.  0.  0.  0.  0.  0.  0.  0.]\n",
      " [ 0.  0.  1.  0.  0.  0.  0.  0. -1.  0.  0.  0.  0.  0.  0.  0.]\n",
      " [ 0.  0.  0.  1.  0.  0.  0.  0.  0.  0.  0.  0. -1.  0.  0.  0.]\n",
      " [ 0.  0.  0.  0.  0.  0.  1.  0.  0. -1.  0.  0.  0.  0.  0.  0.]\n",
      " [ 0.  0.  0.  0.  0.  0.  0.  1.  0.  0.  0.  0.  0. -1.  0.  0.]\n",
      " [ 0.  0.  0.  0.  0.  0.  0.  0.  0.  0.  0.  1.  0.  0. -1.  0.]]\n"
     ]
    }
   ],
   "source": [
    "b = plucker_basis(2,4)\n",
    "print(b)"
   ]
  },
  {
   "cell_type": "code",
   "execution_count": 13,
   "metadata": {},
   "outputs": [
    {
     "name": "stdout",
     "output_type": "stream",
     "text": [
      "[ 0.   +0.j    -0.565+0.213j  0.294-0.529j  0.175+0.161j  0.565-0.213j\n",
      "  0.   +0.j     0.028-0.079j -0.194-0.234j -0.294+0.529j -0.028+0.079j\n",
      "  0.   +0.j     0.333+0.049j -0.175-0.161j  0.194+0.234j -0.333-0.049j\n",
      "  0.   +0.j   ]\n"
     ]
    }
   ],
   "source": [
    "print(sum([c[i]*b[i] for i in range(len(c))]))"
   ]
  },
  {
   "cell_type": "code",
   "execution_count": 14,
   "metadata": {},
   "outputs": [
    {
     "name": "stdout",
     "output_type": "stream",
     "text": [
      "[ 0.   +0.j    -0.565+0.213j  0.294-0.529j  0.175+0.161j  0.565-0.213j\n",
      "  0.   +0.j     0.028-0.079j -0.194-0.234j -0.294+0.529j -0.028+0.079j\n",
      "  0.   +0.j     0.333+0.049j -0.175-0.161j  0.194+0.234j -0.333-0.049j\n",
      "  0.   +0.j   ]\n"
     ]
    }
   ],
   "source": [
    "print(antisymmetrize(*G))"
   ]
  },
  {
   "cell_type": "markdown",
   "metadata": {},
   "source": [
    "## Multiconstellations for (j, k)-planes"
   ]
  },
  {
   "cell_type": "markdown",
   "metadata": {},
   "source": [
    "### Example 4. Irreducible components for (1, 2)-planes"
   ]
  },
  {
   "cell_type": "code",
   "execution_count": 15,
   "metadata": {},
   "outputs": [
    {
     "name": "stdout",
     "output_type": "stream",
     "text": [
      "[[ 0.  1.  0. -1.  0.  0.  0.  0.  0.]\n",
      " [ 0.  0.  1.  0.  0.  0. -1.  0.  0.]\n",
      " [ 0.  0.  0.  0.  0.  1.  0. -1.  0.]]\n"
     ]
    }
   ],
   "source": [
    "print(plucker_basis(2,3))"
   ]
  },
  {
   "cell_type": "code",
   "execution_count": 16,
   "metadata": {},
   "outputs": [
    {
     "data": {
      "text/plain": [
       "array([[1., 0., 0.],\n",
       "       [0., 1., 0.],\n",
       "       [0., 0., 1.]])"
      ]
     },
     "execution_count": 16,
     "metadata": {},
     "output_type": "execute_result"
    }
   ],
   "source": [
    "lower_until_zero(1, 2)"
   ]
  },
  {
   "cell_type": "code",
   "execution_count": 17,
   "metadata": {},
   "outputs": [],
   "source": [
    "W = np.array([[1,0,1j], [0, 1, 1-1j]])"
   ]
  },
  {
   "cell_type": "code",
   "execution_count": 18,
   "metadata": {},
   "outputs": [
    {
     "data": {
      "text/plain": [
       "array([[-0.707,  0.707,  0.   ],\n",
       "       [ 0.707, -0.707,  0.   ]])"
      ]
     },
     "execution_count": 18,
     "metadata": {},
     "output_type": "execute_result"
    }
   ],
   "source": [
    "majorana_stars(W[0])"
   ]
  },
  {
   "cell_type": "code",
   "execution_count": 19,
   "metadata": {},
   "outputs": [
    {
     "data": {
      "text/plain": [
       "array([1.+0.j, 1.-1.j, 0.-1.j])"
      ]
     },
     "execution_count": 19,
     "metadata": {},
     "output_type": "execute_result"
    }
   ],
   "source": [
    "plucker_coordinates(W)"
   ]
  },
  {
   "cell_type": "code",
   "execution_count": 20,
   "metadata": {},
   "outputs": [
    {
     "data": {
      "text/plain": [
       "array([[ 0.707, -0.707,  0.   ],\n",
       "       [ 0.707, -0.707, -0.   ]])"
      ]
     },
     "execution_count": 20,
     "metadata": {},
     "output_type": "execute_result"
    }
   ],
   "source": [
    "majorana_stars(plucker_coordinates(W))"
   ]
  },
  {
   "cell_type": "markdown",
   "metadata": {},
   "source": [
    "### Example 5. Irreducible components for (3/2, 2)-planes"
   ]
  },
  {
   "cell_type": "code",
   "execution_count": 21,
   "metadata": {},
   "outputs": [
    {
     "name": "stdout",
     "output_type": "stream",
     "text": [
      "[[ 0.  1.  0.  0. -1.  0.  0.  0.  0.  0.  0.  0.  0.  0.  0.  0.]\n",
      " [ 0.  0.  1.  0.  0.  0.  0.  0. -1.  0.  0.  0.  0.  0.  0.  0.]\n",
      " [ 0.  0.  0.  1.  0.  0.  0.  0.  0.  0.  0.  0. -1.  0.  0.  0.]\n",
      " [ 0.  0.  0.  0.  0.  0.  1.  0.  0. -1.  0.  0.  0.  0.  0.  0.]\n",
      " [ 0.  0.  0.  0.  0.  0.  0.  1.  0.  0.  0.  0.  0. -1.  0.  0.]\n",
      " [ 0.  0.  0.  0.  0.  0.  0.  0.  0.  0.  0.  1.  0.  0. -1.  0.]]\n"
     ]
    }
   ],
   "source": [
    "print(plucker_basis(2,4))"
   ]
  },
  {
   "cell_type": "code",
   "execution_count": 22,
   "metadata": {},
   "outputs": [
    {
     "name": "stdout",
     "output_type": "stream",
     "text": [
      "[[1.    0.    0.    0.    0.    0.   ]\n",
      " [0.    1.    0.    0.    0.    0.   ]\n",
      " [0.    0.    0.707 0.707 0.    0.   ]\n",
      " [0.    0.    0.    0.    1.    0.   ]\n",
      " [0.    0.    0.    0.    0.    1.   ]]\n"
     ]
    }
   ],
   "source": [
    "U1 = lower_until_zero(3/2, 2)\n",
    "print(U1)"
   ]
  },
  {
   "cell_type": "code",
   "execution_count": 23,
   "metadata": {},
   "outputs": [
    {
     "name": "stdout",
     "output_type": "stream",
     "text": [
      "[[ 0.     0.     0.707 -0.707  0.     0.   ]]\n"
     ]
    }
   ],
   "source": [
    "U2 = lower_until_zero(3/2, 2, np.array([0,0,1,-1,0,0])/np.sqrt(2))\n",
    "print(U2)"
   ]
  },
  {
   "cell_type": "code",
   "execution_count": 24,
   "metadata": {},
   "outputs": [
    {
     "name": "stdout",
     "output_type": "stream",
     "text": [
      "[[ 1.     0.     0.     0.     0.     0.   ]\n",
      " [ 0.     1.     0.     0.     0.     0.   ]\n",
      " [ 0.     0.     0.707  0.707  0.     0.   ]\n",
      " [ 0.     0.     0.     0.     1.     0.   ]\n",
      " [ 0.     0.     0.     0.     0.     1.   ]\n",
      " [ 0.     0.     0.707 -0.707  0.     0.   ]]\n"
     ]
    }
   ],
   "source": [
    "U_32_2 = np.concatenate([U1, U2])\n",
    "print(U_32_2)"
   ]
  },
  {
   "cell_type": "code",
   "execution_count": 25,
   "metadata": {},
   "outputs": [],
   "source": [
    "W = np.array([[1,0,1j,0],[0,1,0,1j]])/np.sqrt(2)"
   ]
  },
  {
   "cell_type": "code",
   "execution_count": 26,
   "metadata": {},
   "outputs": [
    {
     "name": "stdout",
     "output_type": "stream",
     "text": [
      "[ 0.5+0.j   0. +0.j   0. +0.5j  0. -0.5j  0. +0.j  -0.5+0.j ]\n"
     ]
    }
   ],
   "source": [
    "print(plucker_coordinates(W))"
   ]
  },
  {
   "cell_type": "code",
   "execution_count": 27,
   "metadata": {},
   "outputs": [
    {
     "name": "stdout",
     "output_type": "stream",
     "text": [
      "[ 0.5+0.j     0. +0.j     0. +0.j     0. +0.j    -0.5+0.j     0. +0.707j]\n"
     ]
    }
   ],
   "source": [
    "print(U_32_2 @ plucker_coordinates(W))"
   ]
  },
  {
   "cell_type": "code",
   "execution_count": 28,
   "metadata": {},
   "outputs": [],
   "source": [
    "viz_majorana_stars((U_32_2 @ plucker_coordinates(W))[:5])"
   ]
  },
  {
   "cell_type": "code",
   "execution_count": 29,
   "metadata": {},
   "outputs": [],
   "source": [
    "W = np.array([[1,0,-1j,0], [0,1,0,-1j]])/np.sqrt(2)"
   ]
  },
  {
   "cell_type": "code",
   "execution_count": 30,
   "metadata": {},
   "outputs": [
    {
     "name": "stdout",
     "output_type": "stream",
     "text": [
      "[ 0.5+0.j   0. +0.j   0. -0.5j  0. +0.5j  0. +0.j  -0.5+0.j ]\n"
     ]
    }
   ],
   "source": [
    "print(plucker_coordinates(W))"
   ]
  },
  {
   "cell_type": "code",
   "execution_count": 31,
   "metadata": {},
   "outputs": [
    {
     "name": "stdout",
     "output_type": "stream",
     "text": [
      "[ 0.5+0.j     0. +0.j     0. +0.j     0. +0.j    -0.5+0.j     0. -0.707j]\n"
     ]
    }
   ],
   "source": [
    "print(U_32_2 @ plucker_coordinates(W))"
   ]
  },
  {
   "cell_type": "code",
   "execution_count": 32,
   "metadata": {},
   "outputs": [],
   "source": [
    "viz_majorana_stars((U_32_2 @ plucker_coordinates(W))[:5])"
   ]
  },
  {
   "cell_type": "markdown",
   "metadata": {},
   "source": [
    "### Example 6. Multiconstellation for a (2, 2)-plane"
   ]
  },
  {
   "cell_type": "code",
   "execution_count": 33,
   "metadata": {},
   "outputs": [
    {
     "name": "stdout",
     "output_type": "stream",
     "text": [
      "[[ 1.     0.     0.     0.     0.     0.     0.     0.     0.     0.   ]\n",
      " [ 0.     1.     0.     0.     0.     0.     0.     0.     0.     0.   ]\n",
      " [ 0.     0.     0.775  0.     0.632  0.     0.     0.     0.     0.   ]\n",
      " [ 0.     0.     0.     0.447  0.     0.894  0.     0.     0.     0.   ]\n",
      " [ 0.     0.     0.     0.     0.     0.     0.775  0.632  0.     0.   ]\n",
      " [ 0.     0.     0.     0.     0.     0.     0.     0.     1.     0.   ]\n",
      " [ 0.     0.     0.     0.     0.     0.     0.     0.     0.     1.   ]\n",
      " [ 0.     0.     0.632  0.    -0.775  0.     0.     0.     0.     0.   ]\n",
      " [ 0.     0.     0.     0.894  0.    -0.447  0.     0.     0.     0.   ]\n",
      " [ 0.     0.     0.     0.     0.     0.     0.632 -0.775  0.     0.   ]]\n"
     ]
    }
   ],
   "source": [
    "U1 = lower_until_zero(2,2)\n",
    "U2 = lower_until_zero(2,2,np.array([0,0,np.sqrt(2/5), 0, -np.sqrt(3/5),0,0,0,0,0]))\n",
    "U_2_2 = np.concatenate([U1, U2])\n",
    "print(U_2_2)"
   ]
  },
  {
   "cell_type": "code",
   "execution_count": 34,
   "metadata": {},
   "outputs": [],
   "source": [
    "W = np.array([[1,0,1,0,0],[0,1,0,0,1]])/np.sqrt(2)"
   ]
  },
  {
   "cell_type": "code",
   "execution_count": 35,
   "metadata": {},
   "outputs": [
    {
     "name": "stdout",
     "output_type": "stream",
     "text": [
      "[ 0.5  0.   0.   0.5 -0.5  0.   0.   0.   0.5  0. ]\n"
     ]
    }
   ],
   "source": [
    "print(plucker_coordinates(W))"
   ]
  },
  {
   "cell_type": "code",
   "execution_count": 36,
   "metadata": {},
   "outputs": [
    {
     "name": "stdout",
     "output_type": "stream",
     "text": [
      "[ 0.5    0.    -0.316  0.224  0.     0.5    0.     0.387  0.447  0.   ]\n"
     ]
    }
   ],
   "source": [
    "BD = U_2_2 @ plucker_coordinates(W); print(BD)"
   ]
  },
  {
   "cell_type": "code",
   "execution_count": 37,
   "metadata": {},
   "outputs": [],
   "source": [
    "spin3 = BD[:7]; spin1 = BD[7:]"
   ]
  },
  {
   "cell_type": "markdown",
   "metadata": {},
   "source": [
    "### Finding the spectator constellation"
   ]
  },
  {
   "cell_type": "markdown",
   "metadata": {},
   "source": [
    "### By hand, for the spin-3 part"
   ]
  },
  {
   "cell_type": "code",
   "execution_count": 38,
   "metadata": {},
   "outputs": [
    {
     "data": {
      "text/plain": [
       "array([-0.245,  0.   ,  0.35 ])"
      ]
     },
     "execution_count": 38,
     "metadata": {},
     "output_type": "execute_result"
    }
   ],
   "source": [
    "expect_xyz(spin3)"
   ]
  },
  {
   "cell_type": "code",
   "execution_count": 39,
   "metadata": {},
   "outputs": [
    {
     "data": {
      "text/plain": [
       "(0.6106281135425041, 3.141592653589793)"
      ]
     },
     "execution_count": 39,
     "metadata": {},
     "output_type": "execute_result"
    }
   ],
   "source": [
    "r, theta, phi = cartesian_to_spherical(expect_xyz(spin3)); theta, phi"
   ]
  },
  {
   "cell_type": "code",
   "execution_count": 40,
   "metadata": {},
   "outputs": [],
   "source": [
    "spin3_ = rotate(3, theta, phi) @ spin3"
   ]
  },
  {
   "cell_type": "code",
   "execution_count": 41,
   "metadata": {},
   "outputs": [
    {
     "name": "stderr",
     "output_type": "stream",
     "text": [
      "/Users/heyredhat/Desktop/qbuki/qbuki/spin.py:139: VisibleDeprecationWarning: Creating an ndarray from ragged nested sequences (which is a list-or-tuple of lists-or-tuples-or ndarrays with different lengths or shapes) is deprecated. If you meant to do this, you must specify 'dtype=object' when creating the ndarray.\n",
      "  return np.array([[(spherical_tensor(j, l, m).conj().T @ O).trace() for m in np.arange(-l, l+1)] for l in np.arange(0, 2*j+1)])\n"
     ]
    },
    {
     "data": {
      "text/plain": [
       "array([list([(0.24567690745599757+0j)]),\n",
       "       list([(1.3877787807814457e-17+4.008597611912944e-18j), (0.08073324682469504+0j), (-1.3877787807814457e-17+4.008597611912946e-18j)]),\n",
       "       list([(0.011349449999020756+3.545966333935909e-18j), (0.043344649430436824+6.402920632522101e-18j), (0.05403134747966522+0j), (-0.043344649430436824+6.4029206325221024e-18j), (0.011349449999020763-3.5459663339359075e-18j)]),\n",
       "       list([(-0.08993661123520022-2.237210574907162e-18j), (0.04341728886657917+9.84602891805298e-18j), (0.14103797950199523-4.383216340710987e-18j), (-0.1013373901874251+0j), (-0.14103797950199523-4.3832163407109884e-18j), (0.04341728886657917-9.84602891805298e-18j), (0.08993661123520023-2.237210574907162e-18j)]),\n",
       "       list([(0.033428586304941776-1.3193812744834534e-18j), (-0.04308546177938186-1.206470568651092e-17j), (-0.09533361836754878-4.872422667621212e-18j), (0.03361535153592275-4.028725231026192e-17j), (-0.1708794296759276+0j), (-0.033615351535922725-4.028725231026192e-17j), (-0.09533361836754878+4.872422667621212e-18j), (0.04308546177938186-1.206470568651092e-17j), (0.033428586304941776+1.3193812744834534e-18j)]),\n",
       "       list([(0.1675351698991623+1.575858026152878e-17j), (-0.025038119388911904+3.201938681605745e-17j), (0.1049635529041436+4.085232230639066e-18j), (0.004918846476243015+4.0183620537159736e-17j), (0.11794500622371482-2.759522948864911e-17j), (-0.16182437313870146+0j), (-0.11794500622371482-2.759522948864911e-17j), (0.004918846476243015-4.0183620537159736e-17j), (-0.1049635529041436+4.085232230639066e-18j), (-0.025038119388911904-3.201938681605745e-17j), (-0.1675351698991623+1.575858026152878e-17j)]),\n",
       "       list([(0.07889199252846078+3.18965840858519e-19j), (-0.0835097674928374-2.4429910471873255e-17j), (-0.1505012248227166-1.0769892816079026e-17j), (0.08478931051874741-2.995670016298786e-17j), (-0.03154064185210122+2.026608982073557e-17j), (0.01711603493206386-1.3722493797776592e-17j), (-0.03119341376059238+0j), (-0.01711603493206386-1.3722493797776594e-17j), (-0.03154064185210122-2.026608982073557e-17j), (-0.08478931051874741-2.995670016298786e-17j), (-0.1505012248227166+1.0769892816079026e-17j), (0.0835097674928374-2.4429910471873255e-17j), (0.07889199252846078-3.18965840858519e-19j)])],\n",
       "      dtype=object)"
      ]
     },
     "execution_count": 41,
     "metadata": {},
     "output_type": "execute_result"
    }
   ],
   "source": [
    "multipole_expansion(np.outer(spin3_, spin3_.conj()))"
   ]
  },
  {
   "cell_type": "code",
   "execution_count": 42,
   "metadata": {},
   "outputs": [
    {
     "data": {
      "text/plain": [
       "array([ 0.258-0.j,  0.581+0.j, -0.12 -0.j,  0.085+0.j, -0.279-0.j,\n",
       "        0.23 -0.j,  0.305-0.j])"
      ]
     },
     "execution_count": 42,
     "metadata": {},
     "output_type": "execute_result"
    }
   ],
   "source": [
    "spin3_"
   ]
  },
  {
   "cell_type": "code",
   "execution_count": 43,
   "metadata": {},
   "outputs": [
    {
     "data": {
      "text/plain": [
       "0.8062257748298548"
      ]
     },
     "execution_count": 43,
     "metadata": {},
     "output_type": "execute_result"
    }
   ],
   "source": [
    "np.sqrt(spin3.conj() @ spin3)"
   ]
  },
  {
   "cell_type": "markdown",
   "metadata": {},
   "source": [
    "Or use:"
   ]
  },
  {
   "cell_type": "code",
   "execution_count": 44,
   "metadata": {},
   "outputs": [
    {
     "data": {
      "text/plain": [
       "(0.8062257748298548+2.753541299890503e-16j)"
      ]
     },
     "execution_count": 44,
     "metadata": {},
     "output_type": "execute_result"
    }
   ],
   "source": [
    "spectator_component(spin3)"
   ]
  },
  {
   "cell_type": "markdown",
   "metadata": {},
   "source": [
    "### By hand, for the spin-1 part"
   ]
  },
  {
   "cell_type": "code",
   "execution_count": 45,
   "metadata": {},
   "outputs": [
    {
     "data": {
      "text/plain": [
       "array([0.245, 0.   , 0.15 ])"
      ]
     },
     "execution_count": 45,
     "metadata": {},
     "output_type": "execute_result"
    }
   ],
   "source": [
    "expect_xyz(spin1)"
   ]
  },
  {
   "cell_type": "code",
   "execution_count": 46,
   "metadata": {},
   "outputs": [
    {
     "data": {
      "text/plain": [
       "(1.0213290820372694, 0.0)"
      ]
     },
     "execution_count": 46,
     "metadata": {},
     "output_type": "execute_result"
    }
   ],
   "source": [
    "r, theta, phi = cartesian_to_spherical(expect_xyz(spin1)); theta, phi"
   ]
  },
  {
   "cell_type": "code",
   "execution_count": 47,
   "metadata": {},
   "outputs": [],
   "source": [
    "spin1_ = rotate(1, theta, phi) @ spin1"
   ]
  },
  {
   "cell_type": "code",
   "execution_count": 48,
   "metadata": {},
   "outputs": [
    {
     "data": {
      "text/plain": [
       "array([list([(0.20207259421636883+0j)]),\n",
       "       list([(-3.0404709722440573e-17+0j), (0.20310096011589887+0j), (3.0404709722440573e-17+0j)]),\n",
       "       list([(-0.09999999999999992+0j), (-5.822058658345459e-17+0j), (0.14288690166235196+0j), (5.822058658345459e-17+0j), (-0.09999999999999992+0j)])],\n",
       "      dtype=object)"
      ]
     },
     "execution_count": 48,
     "metadata": {},
     "output_type": "execute_result"
    }
   ],
   "source": [
    "multipole_expansion(np.outer(spin1_, spin1_.conj()))"
   ]
  },
  {
   "cell_type": "code",
   "execution_count": 49,
   "metadata": {},
   "outputs": [
    {
     "data": {
      "text/plain": [
       "array([ 0.+0.564j, -0.+0.j   ,  0.+0.177j])"
      ]
     },
     "execution_count": 49,
     "metadata": {},
     "output_type": "execute_result"
    }
   ],
   "source": [
    "spin1__ = sc.linalg.expm(1j*np.pi*sigma_z(1)/2) @ spin1_; spin1__"
   ]
  },
  {
   "cell_type": "code",
   "execution_count": 50,
   "metadata": {},
   "outputs": [
    {
     "data": {
      "text/plain": [
       "(3.6225540849366556e-17+0.5916079783099615j)"
      ]
     },
     "execution_count": 50,
     "metadata": {},
     "output_type": "execute_result"
    }
   ],
   "source": [
    "np.sqrt(spin1.conj() @ spin1) * np.exp(1j*np.angle(spin1__[0]))"
   ]
  },
  {
   "cell_type": "markdown",
   "metadata": {},
   "source": [
    "Or use:"
   ]
  },
  {
   "cell_type": "code",
   "execution_count": 51,
   "metadata": {},
   "outputs": [
    {
     "data": {
      "text/plain": [
       "(3.6225540849366556e-17+0.5916079783099615j)"
      ]
     },
     "execution_count": 51,
     "metadata": {},
     "output_type": "execute_result"
    }
   ],
   "source": [
    "spectator_component(spin1)"
   ]
  },
  {
   "cell_type": "markdown",
   "metadata": {},
   "source": [
    "### Putting it together:"
   ]
  },
  {
   "cell_type": "code",
   "execution_count": 52,
   "metadata": {},
   "outputs": [],
   "source": [
    "viz_majorana_stars(spin3)"
   ]
  },
  {
   "cell_type": "code",
   "execution_count": 53,
   "metadata": {},
   "outputs": [],
   "source": [
    "viz_majorana_stars(spin1)"
   ]
  },
  {
   "cell_type": "code",
   "execution_count": 54,
   "metadata": {},
   "outputs": [
    {
     "data": {
      "text/plain": [
       "array([0.806+0.j   , 0.   +0.592j])"
      ]
     },
     "execution_count": 54,
     "metadata": {},
     "output_type": "execute_result"
    }
   ],
   "source": [
    "spectator = np.array([spectator_component(spin3), spectator_component(spin1)]); spectator"
   ]
  },
  {
   "cell_type": "code",
   "execution_count": 55,
   "metadata": {},
   "outputs": [],
   "source": [
    "viz_majorana_stars(spectator)"
   ]
  },
  {
   "cell_type": "markdown",
   "metadata": {},
   "source": [
    "## Holonomies"
   ]
  },
  {
   "cell_type": "markdown",
   "metadata": {},
   "source": [
    "### Example 1: a spin-2 2 plane"
   ]
  },
  {
   "cell_type": "code",
   "execution_count": 56,
   "metadata": {},
   "outputs": [],
   "source": [
    "psi1 = np.array([1,0,0,np.sqrt(2),0])/np.sqrt(3)\n",
    "viz_majorana_stars(psi1)"
   ]
  },
  {
   "cell_type": "code",
   "execution_count": 57,
   "metadata": {},
   "outputs": [],
   "source": [
    "psi2 = np.array([0,-np.sqrt(2),0,0,1])/np.sqrt(3)\n",
    "viz_majorana_stars(psi2)"
   ]
  },
  {
   "cell_type": "code",
   "execution_count": 58,
   "metadata": {},
   "outputs": [],
   "source": [
    "pi_not = np.array([psi1, psi2])"
   ]
  },
  {
   "cell_type": "code",
   "execution_count": 59,
   "metadata": {},
   "outputs": [
    {
     "data": {
      "text/plain": [
       "True"
      ]
     },
     "execution_count": 59,
     "metadata": {},
     "output_type": "execute_result"
    }
   ],
   "source": [
    "check_1anticoherence(pi_not)"
   ]
  },
  {
   "cell_type": "code",
   "execution_count": 60,
   "metadata": {},
   "outputs": [
    {
     "data": {
      "text/plain": [
       "array([[ 0.+0.j,  1.+0.j],\n",
       "       [ 1.+0.j, -0.+0.j]])"
      ]
     },
     "execution_count": 60,
     "metadata": {},
     "output_type": "execute_result"
    }
   ],
   "source": [
    "pi_not_evolution = lambda t: pi_not @ sc.linalg.expm(-1j*sigma_y(2)*np.pi*t)\n",
    "pi_not_holonomy = holonomy(pi_not_evolution, 1); pi_not_holonomy"
   ]
  },
  {
   "cell_type": "code",
   "execution_count": 61,
   "metadata": {},
   "outputs": [
    {
     "data": {
      "text/plain": [
       "array([[ 0.+0.j,  1.+0.j],\n",
       "       [ 1.+0.j, -0.+0.j]])"
      ]
     },
     "execution_count": 61,
     "metadata": {},
     "output_type": "execute_result"
    }
   ],
   "source": [
    "rot_holonomy(pi_not, sc.linalg.expm(-1j*sigma_y(2)*np.pi))"
   ]
  },
  {
   "cell_type": "code",
   "execution_count": 62,
   "metadata": {},
   "outputs": [
    {
     "data": {
      "text/plain": [
       "array([[ 0.   +0.j, -0.816+0.j,  0.   +0.j,  0.   +0.j,  0.577+0.j],\n",
       "       [ 0.577+0.j,  0.   +0.j,  0.   +0.j,  0.816+0.j, -0.   +0.j]])"
      ]
     },
     "execution_count": 62,
     "metadata": {},
     "output_type": "execute_result"
    }
   ],
   "source": [
    "pi_not_holonomy @ pi_not_evolution(0)"
   ]
  },
  {
   "cell_type": "code",
   "execution_count": 63,
   "metadata": {},
   "outputs": [
    {
     "data": {
      "text/plain": [
       "array([[ 0.   +0.j, -0.816+0.j, -0.   +0.j,  0.   +0.j,  0.577+0.j],\n",
       "       [ 0.577+0.j,  0.   +0.j, -0.   +0.j,  0.816+0.j,  0.   +0.j]])"
      ]
     },
     "execution_count": 63,
     "metadata": {},
     "output_type": "execute_result"
    }
   ],
   "source": [
    "pi_not @ sc.linalg.expm(-1j*sigma_y(2)*np.pi)"
   ]
  },
  {
   "cell_type": "code",
   "execution_count": 64,
   "metadata": {},
   "outputs": [
    {
     "data": {
      "text/plain": [
       "array([-0.471,  0.   ,  0.   ,  0.333,  0.   ,  0.667,  0.   ,  0.   ,\n",
       "        0.   ,  0.471])"
      ]
     },
     "execution_count": 64,
     "metadata": {},
     "output_type": "execute_result"
    }
   ],
   "source": [
    "plucker_coordinates(pi_not)"
   ]
  },
  {
   "cell_type": "code",
   "execution_count": 65,
   "metadata": {},
   "outputs": [
    {
     "data": {
      "text/plain": [
       "array([-0.471,  0.   ,  0.   ,  0.745,  0.   ,  0.   ,  0.471,  0.   ,\n",
       "        0.   ,  0.   ])"
      ]
     },
     "execution_count": 65,
     "metadata": {},
     "output_type": "execute_result"
    }
   ],
   "source": [
    "bd_pi_not = U_2_2 @ plucker_coordinates(pi_not); bd_pi_not"
   ]
  },
  {
   "cell_type": "code",
   "execution_count": 66,
   "metadata": {
    "scrolled": false
   },
   "outputs": [],
   "source": [
    "pi_not_spin3 = bd_pi_not[0:7]\n",
    "viz_majorana_stars(pi_not_spin3)"
   ]
  },
  {
   "cell_type": "markdown",
   "metadata": {},
   "source": [
    "#### So:"
   ]
  },
  {
   "cell_type": "code",
   "execution_count": 67,
   "metadata": {},
   "outputs": [
    {
     "data": {
      "text/plain": [
       "array([ 0.333, -0.667,  0.   ,  0.471,  0.471])"
      ]
     },
     "execution_count": 67,
     "metadata": {},
     "output_type": "execute_result"
    }
   ],
   "source": [
    "test = np.sqrt(1/3)*psi1 + np.sqrt(2/3)*psi2; test"
   ]
  },
  {
   "cell_type": "code",
   "execution_count": 68,
   "metadata": {},
   "outputs": [
    {
     "data": {
      "text/plain": [
       "array([ 0.471+0.j, -0.471+0.j,  0.   +0.j,  0.667+0.j,  0.333+0.j])"
      ]
     },
     "execution_count": 68,
     "metadata": {},
     "output_type": "execute_result"
    }
   ],
   "source": [
    "sc.linalg.expm(-1j*sigma_y(2)*np.pi) @ test"
   ]
  },
  {
   "cell_type": "code",
   "execution_count": 69,
   "metadata": {},
   "outputs": [
    {
     "data": {
      "text/plain": [
       "array([ 0.471, -0.471,  0.   ,  0.667,  0.333])"
      ]
     },
     "execution_count": 69,
     "metadata": {},
     "output_type": "execute_result"
    }
   ],
   "source": [
    "np.sqrt(2/3)*psi1 + np.sqrt(1/3)*psi2"
   ]
  },
  {
   "cell_type": "markdown",
   "metadata": {},
   "source": [
    "### Example 2: a spin-5 4 plane"
   ]
  },
  {
   "cell_type": "code",
   "execution_count": 70,
   "metadata": {},
   "outputs": [],
   "source": [
    "pi_cnot = np.array([(spin_basis(5,5) + 1j*np.sqrt(2)*spin_basis(5,0) + spin_basis(5,-5))/2,\\\n",
    "                    (spin_basis(5,5) - 1j*np.sqrt(2)*spin_basis(5,0) + spin_basis(5,-5))/2,\\\n",
    "                    (np.sqrt(2)*spin_basis(5,3) + 1j*np.sqrt(3)*spin_basis(5,-2) )/np.sqrt(5),\\\n",
    "                    (1j*np.sqrt(3)*spin_basis(5,2) + np.sqrt(2)*spin_basis(5,-3))/np.sqrt(5)])"
   ]
  },
  {
   "cell_type": "code",
   "execution_count": 71,
   "metadata": {},
   "outputs": [
    {
     "data": {
      "text/plain": [
       "True"
      ]
     },
     "execution_count": 71,
     "metadata": {},
     "output_type": "execute_result"
    }
   ],
   "source": [
    "check_1anticoherence(pi_cnot)"
   ]
  },
  {
   "cell_type": "code",
   "execution_count": 72,
   "metadata": {},
   "outputs": [
    {
     "data": {
      "text/plain": [
       "array([[-1.+0.j, -0.+0.j, -0.+0.j,  0.+0.j],\n",
       "       [ 0.+0.j, -1.+0.j, -0.+0.j, -0.+0.j],\n",
       "       [-0.+0.j,  0.+0.j, -0.+0.j, -1.+0.j],\n",
       "       [ 0.+0.j,  0.+0.j, -1.+0.j,  0.+0.j]])"
      ]
     },
     "execution_count": 72,
     "metadata": {},
     "output_type": "execute_result"
    }
   ],
   "source": [
    "pi_cnot_holonomy1 = rot_holonomy(pi_cnot, sc.linalg.expm(-1j*sigma_x(5)*np.pi)); pi_cnot_holonomy1"
   ]
  },
  {
   "cell_type": "code",
   "execution_count": 73,
   "metadata": {},
   "outputs": [
    {
     "data": {
      "text/plain": [
       "True"
      ]
     },
     "execution_count": 73,
     "metadata": {},
     "output_type": "execute_result"
    }
   ],
   "source": [
    "np.allclose(pi_cnot_holonomy1 @ pi_cnot, pi_cnot @  sc.linalg.expm(-1j*sigma_x(5)*np.pi))"
   ]
  },
  {
   "cell_type": "code",
   "execution_count": 74,
   "metadata": {},
   "outputs": [
    {
     "data": {
      "text/plain": [
       "array([[ 1.   +0.j   ,  0.   +0.j   ,  0.   +0.j   ,  0.   +0.j   ],\n",
       "       [-0.   +0.j   ,  1.   +0.j   ,  0.   +0.j   ,  0.   +0.j   ],\n",
       "       [ 0.   +0.j   ,  0.   +0.j   , -0.809+0.588j,  0.   +0.j   ],\n",
       "       [ 0.   +0.j   ,  0.   +0.j   ,  0.   +0.j   , -0.809-0.588j]])"
      ]
     },
     "execution_count": 74,
     "metadata": {},
     "output_type": "execute_result"
    }
   ],
   "source": [
    "pi_cnot_holonomy2 = rot_holonomy(pi_cnot, sc.linalg.expm(-1j*sigma_z(5)*(2*np.pi/5))); pi_cnot_holonomy2"
   ]
  },
  {
   "cell_type": "code",
   "execution_count": 75,
   "metadata": {},
   "outputs": [
    {
     "data": {
      "text/plain": [
       "True"
      ]
     },
     "execution_count": 75,
     "metadata": {},
     "output_type": "execute_result"
    }
   ],
   "source": [
    "np.allclose(pi_cnot_holonomy2 @ pi_cnot, pi_cnot @  sc.linalg.expm(-1j*sigma_z(5)*(2*np.pi/5)))"
   ]
  },
  {
   "cell_type": "markdown",
   "metadata": {},
   "source": [
    "For example:"
   ]
  },
  {
   "cell_type": "code",
   "execution_count": 76,
   "metadata": {},
   "outputs": [],
   "source": [
    "U = -np.linalg.qr(sum([np.outer(pi_cnot[i], basis(11,i)) for i in range(4)]))[0]\n",
    "H = np.array([[1,1],[1,-1]])/np.sqrt(2)"
   ]
  },
  {
   "cell_type": "code",
   "execution_count": 77,
   "metadata": {},
   "outputs": [
    {
     "data": {
      "text/plain": [
       "array([0.707, 0.   , 0.707, 0.   ])"
      ]
     },
     "execution_count": 77,
     "metadata": {},
     "output_type": "execute_result"
    }
   ],
   "source": [
    "tiny_initial = np.kron(H, np.eye(2)) @ basis(4,0); tiny_initial"
   ]
  },
  {
   "cell_type": "code",
   "execution_count": 78,
   "metadata": {},
   "outputs": [
    {
     "data": {
      "text/plain": [
       "array([0.354+0.j   , 0.   +0.j   , 0.447+0.j   , 0.   +0.j   ,\n",
       "       0.   +0.j   , 0.   +0.5j  , 0.   +0.j   , 0.   +0.548j,\n",
       "       0.   +0.j   , 0.   +0.j   , 0.354+0.j   ])"
      ]
     },
     "execution_count": 78,
     "metadata": {},
     "output_type": "execute_result"
    }
   ],
   "source": [
    "big_initial = sum([tiny_initial[i]*pi_cnot[i] for i in range(4)]); big_initial"
   ]
  },
  {
   "cell_type": "code",
   "execution_count": 79,
   "metadata": {},
   "outputs": [
    {
     "data": {
      "text/plain": [
       "array([-0.707+0.j, -0.   +0.j, -0.   +0.j, -0.707+0.j, -0.   +0.j,\n",
       "       -0.   +0.j,  0.   +0.j,  0.   +0.j,  0.   +0.j,  0.   +0.j,\n",
       "       -0.   -0.j])"
      ]
     },
     "execution_count": 79,
     "metadata": {},
     "output_type": "execute_result"
    }
   ],
   "source": [
    "U.conj().T @ sc.linalg.expm(-1j*sigma_x(5)*np.pi) @ big_initial"
   ]
  },
  {
   "cell_type": "code",
   "execution_count": 80,
   "metadata": {},
   "outputs": [
    {
     "data": {
      "text/plain": [
       "array([-0.707+0.j, -0.   +0.j, -0.   +0.j, -0.707+0.j])"
      ]
     },
     "execution_count": 80,
     "metadata": {},
     "output_type": "execute_result"
    }
   ],
   "source": [
    "pi_cnot_holonomy1 @ tiny_initial"
   ]
  },
  {
   "cell_type": "markdown",
   "metadata": {},
   "source": [
    "## The Principle Constellation of a (j, k) plane"
   ]
  },
  {
   "cell_type": "code",
   "execution_count": 81,
   "metadata": {},
   "outputs": [
    {
     "data": {
      "text/latex": [
       "$x \\mapsto \\color{LightGray}{\\text{0j}}\\color{LightGray}{ + (\\text{0j})\\,x}\\color{LightGray}{ + (\\text{0j})\\,x^{2}}\\color{LightGray}{ + (\\text{0j})\\,x^{3}} + (\\text{(-72737.8195988854+0j)})\\,x^{4}\\color{LightGray}{ + (\\text{0j})\\,x^{5}}\\color{LightGray}{ + (\\text{0j})\\,x^{6}}\\color{LightGray}{ + (\\text{0j})\\,x^{7}}\\color{LightGray}{ + (\\text{0j})\\,x^{8}} + (\\text{2230626.467699155j})\\,x^{9}\\color{LightGray}{ + (\\text{0j})\\,x^{10}}\\color{LightGray}{ + (\\text{0j})\\,x^{11}}\\color{LightGray}{ + (\\text{0j})\\,x^{12}}\\color{LightGray}{ + (\\text{0j})\\,x^{13}} + (\\text{(2.60770320892334e-08+0j)})\\,x^{14}\\color{LightGray}{ + (\\text{0j})\\,x^{15}}\\color{LightGray}{ + (\\text{0j})\\,x^{16}}\\color{LightGray}{ + (\\text{0j})\\,x^{17}}\\color{LightGray}{ + (\\text{0j})\\,x^{18}} + (\\text{-2230626.4676992223j})\\,x^{19}\\color{LightGray}{ + (\\text{0j})\\,x^{20}}\\color{LightGray}{ + (\\text{0j})\\,x^{21}}\\color{LightGray}{ + (\\text{0j})\\,x^{22}}\\color{LightGray}{ + (\\text{0j})\\,x^{23}} + (\\text{(72737.81959888898+0j)})\\,x^{24}$"
      ],
      "text/plain": [
       "Polynomial([     0.        +0.j   ,      0.        +0.j   ,\n",
       "            0.        +0.j   ,      0.        +0.j   ,\n",
       "       -72737.82      +0.j   ,      0.        +0.j   ,\n",
       "            0.        +0.j   ,      0.        +0.j   ,\n",
       "            0.        +0.j   ,      0.  +2230626.468j,\n",
       "            0.        +0.j   ,      0.        +0.j   ,\n",
       "            0.        +0.j   ,      0.        +0.j   ,\n",
       "            0.        +0.j   ,      0.        +0.j   ,\n",
       "            0.        +0.j   ,      0.        +0.j   ,\n",
       "            0.        +0.j   ,      0.  -2230626.468j,\n",
       "            0.        +0.j   ,      0.        +0.j   ,\n",
       "            0.        +0.j   ,      0.        +0.j   ,\n",
       "        72737.82      +0.j   ], domain=[-1.,  1.], window=[-1.,  1.])"
      ]
     },
     "execution_count": 81,
     "metadata": {},
     "output_type": "execute_result"
    }
   ],
   "source": [
    "principle_constellation_polynomial(pi_cnot)"
   ]
  },
  {
   "cell_type": "code",
   "execution_count": 82,
   "metadata": {},
   "outputs": [],
   "source": [
    "viz_projective_stars(number_of_principal_stars(5,4),\\\n",
    "                     principle_constellation_polynomial(pi_cnot))"
   ]
  },
  {
   "cell_type": "markdown",
   "metadata": {},
   "source": [
    "## Coherent States and Coherent (j,k)-planes"
   ]
  },
  {
   "cell_type": "code",
   "execution_count": 83,
   "metadata": {},
   "outputs": [
    {
     "data": {
      "text/plain": [
       "array([0.304, 0.58 , 0.638, 0.405])"
      ]
     },
     "execution_count": 83,
     "metadata": {},
     "output_type": "execute_result"
    }
   ],
   "source": [
    "z = 1.1\n",
    "spin_coherent_state(3/2, z)"
   ]
  },
  {
   "cell_type": "code",
   "execution_count": 84,
   "metadata": {},
   "outputs": [
    {
     "data": {
      "text/plain": [
       "array([0.304, 0.58 , 0.638, 0.405])"
      ]
     },
     "execution_count": 84,
     "metadata": {},
     "output_type": "execute_result"
    }
   ],
   "source": [
    "cs = sc.linalg.expm(z*sigma_minus(3/2)) @ spin_basis(3/2,3/2)\n",
    "cs = cs/np.linalg.norm(cs); cs"
   ]
  },
  {
   "cell_type": "code",
   "execution_count": 101,
   "metadata": {},
   "outputs": [],
   "source": [
    "j = 1/2\n",
    "ket = rand_ket(int(2*j+1)).T[0]\n",
    "scs_rep1 = spin_coherent_representation(ket)\n",
    "scs_rep2 = lambda z: spin_coherent_state(j, np.inf if np.isclose(z, 0) else -1/z.conjugate()).conj() @ ket"
   ]
  },
  {
   "cell_type": "code",
   "execution_count": 102,
   "metadata": {},
   "outputs": [
    {
     "data": {
      "text/plain": [
       "((-0.3853119244766922-0.13392178878226943j),\n",
       " (-0.3853119244766922-0.13392178878226943j))"
      ]
     },
     "execution_count": 102,
     "metadata": {},
     "output_type": "execute_result"
    }
   ],
   "source": [
    "scs_rep1(1), scs_rep2(1)"
   ]
  },
  {
   "cell_type": "code",
   "execution_count": 103,
   "metadata": {},
   "outputs": [
    {
     "data": {
      "text/plain": [
       "((0.9055234159384318+0.22129218172877904j),\n",
       " (0.9055234159384318+0.22129218172877904j))"
      ]
     },
     "execution_count": 103,
     "metadata": {},
     "output_type": "execute_result"
    }
   ],
   "source": [
    "scs_rep1(0), scs_rep2(0)"
   ]
  },
  {
   "cell_type": "code",
   "execution_count": 104,
   "metadata": {},
   "outputs": [
    {
     "data": {
      "text/plain": [
       "((0.36061006659941597+0.031898171735628617j),\n",
       " (0.36061006659941597+0.031898171735628617j))"
      ]
     },
     "execution_count": 104,
     "metadata": {},
     "output_type": "execute_result"
    }
   ],
   "source": [
    "scs_rep1(np.inf), scs_rep2(np.inf)"
   ]
  },
  {
   "cell_type": "markdown",
   "metadata": {},
   "source": [
    "## Spin Coherent planes <=> Principal Constellations"
   ]
  },
  {
   "cell_type": "code",
   "execution_count": 87,
   "metadata": {},
   "outputs": [
    {
     "data": {
      "text/plain": [
       "array([[ 1.   , -1.732,  1.732, -1.   ],\n",
       "       [ 0.   ,  1.   , -2.   ,  1.732]])"
      ]
     },
     "execution_count": 87,
     "metadata": {},
     "output_type": "execute_result"
    }
   ],
   "source": [
    "coherent_plane(3/2, 2)(1)"
   ]
  },
  {
   "cell_type": "code",
   "execution_count": 88,
   "metadata": {},
   "outputs": [],
   "source": [
    "w = np.array([[1,0,0,np.sqrt(2)], [0,1,0,0]])"
   ]
  },
  {
   "cell_type": "code",
   "execution_count": 89,
   "metadata": {},
   "outputs": [],
   "source": [
    "# Note that we use 1/z.conjugate() instead of -1/z.conjugate()... why?\n",
    "pcp = lambda z: z**number_of_principal_stars(3/2,2)*\\\n",
    "        plucker_inner_product(coherent_plane(3/2, 2)(1/z.conjugate()), w)"
   ]
  },
  {
   "cell_type": "code",
   "execution_count": 90,
   "metadata": {},
   "outputs": [
    {
     "data": {
      "text/plain": [
       "3.8284271247461885"
      ]
     },
     "execution_count": 90,
     "metadata": {},
     "output_type": "execute_result"
    }
   ],
   "source": [
    "pcp(1)"
   ]
  },
  {
   "cell_type": "code",
   "execution_count": 91,
   "metadata": {},
   "outputs": [
    {
     "data": {
      "text/plain": [
       "3.8284271247461907"
      ]
     },
     "execution_count": 91,
     "metadata": {},
     "output_type": "execute_result"
    }
   ],
   "source": [
    "# Why the sqrt(3)?\n",
    "principle_constellation_polynomial(w)(1)/np.sqrt(3)"
   ]
  },
  {
   "cell_type": "markdown",
   "metadata": {},
   "source": [
    "## Finding 1-Anticoherent Subspaces"
   ]
  },
  {
   "cell_type": "code",
   "execution_count": 92,
   "metadata": {},
   "outputs": [
    {
     "name": "stderr",
     "output_type": "stream",
     "text": [
      "/Users/heyredhat/opt/anaconda3/lib/python3.7/site-packages/scipy/optimize/_hessian_update_strategy.py:187: UserWarning: delta_grad == 0.0. Check if the approximated function is linear. If the function is linear better results can be obtained by defining the Hessian as zero instead of using quasi-Newton approximations.\n",
      "  'approximations.', UserWarning)\n"
     ]
    },
    {
     "name": "stdout",
     "output_type": "stream",
     "text": [
      "`xtol` termination condition is satisfied.\n",
      "Number of iterations: 168, function evaluations: 228, CG iterations: 216, optimality: 2.36e+00, constraint violation: 5.55e-17, execution time: 0.57 s.\n"
     ]
    }
   ],
   "source": [
    "j, k = 2, 2\n",
    "R = find_1anticoherent_subspace(j, k)"
   ]
  },
  {
   "cell_type": "code",
   "execution_count": 93,
   "metadata": {},
   "outputs": [
    {
     "data": {
      "text/plain": [
       "array([[1.+0.j, 0.-0.j],\n",
       "       [0.+0.j, 1.+0.j]])"
      ]
     },
     "execution_count": 93,
     "metadata": {},
     "output_type": "execute_result"
    }
   ],
   "source": [
    "R @ R.conj().T"
   ]
  },
  {
   "cell_type": "code",
   "execution_count": 94,
   "metadata": {},
   "outputs": [
    {
     "data": {
      "text/plain": [
       "array([[-0.+0.j, -0.-0.j],\n",
       "       [ 0.-0.j,  0.-0.j]])"
      ]
     },
     "execution_count": 94,
     "metadata": {},
     "output_type": "execute_result"
    }
   ],
   "source": [
    "R @ sigma_x(j) @ R.conj().T"
   ]
  },
  {
   "cell_type": "code",
   "execution_count": 95,
   "metadata": {},
   "outputs": [
    {
     "data": {
      "text/plain": [
       "array([[-0.+0.j,  0.+0.j],\n",
       "       [-0.+0.j,  0.+0.j]])"
      ]
     },
     "execution_count": 95,
     "metadata": {},
     "output_type": "execute_result"
    }
   ],
   "source": [
    "R @ sigma_y(j) @ R.conj().T"
   ]
  },
  {
   "cell_type": "code",
   "execution_count": 96,
   "metadata": {},
   "outputs": [
    {
     "data": {
      "text/plain": [
       "array([[ 0.+0.j,  0.+0.j],\n",
       "       [ 0.+0.j, -0.+0.j]])"
      ]
     },
     "execution_count": 96,
     "metadata": {},
     "output_type": "execute_result"
    }
   ],
   "source": [
    "R @ sigma_z(j) @ R.conj().T"
   ]
  },
  {
   "cell_type": "code",
   "execution_count": 97,
   "metadata": {},
   "outputs": [
    {
     "data": {
      "text/plain": [
       "array([[-0.156+0.395j, -0.016+0.158j,  0.326+0.684j, -0.228-0.051j,\n",
       "         0.168+0.371j],\n",
       "       [-0.265-0.464j,  0.269+0.201j,  0.46 +0.087j, -0.28 -0.071j,\n",
       "        -0.506-0.208j]])"
      ]
     },
     "execution_count": 97,
     "metadata": {},
     "output_type": "execute_result"
    }
   ],
   "source": [
    "R"
   ]
  },
  {
   "cell_type": "code",
   "execution_count": 98,
   "metadata": {},
   "outputs": [
    {
     "data": {
      "text/plain": [
       "(array([-0.199+0.109j, -0.337+0.5j  ,  0.045-0.282j,  0.075+0.018j,\n",
       "         0.091-0.271j, -0.068-0.599j,  0.126+0.189j]),\n",
       " array([0.+0.j, 0.-0.j, 0.-0.j]))"
      ]
     },
     "execution_count": 98,
     "metadata": {},
     "output_type": "execute_result"
    }
   ],
   "source": [
    "bd = U_2_2 @ plucker_coordinates(R)\n",
    "j3 = bd[:7]\n",
    "j1 = bd[7:]\n",
    "(j3, j1)"
   ]
  },
  {
   "cell_type": "code",
   "execution_count": 99,
   "metadata": {},
   "outputs": [],
   "source": [
    "viz_majorana_stars(j3)"
   ]
  },
  {
   "cell_type": "code",
   "execution_count": null,
   "metadata": {},
   "outputs": [],
   "source": []
  }
 ],
 "metadata": {
  "kernelspec": {
   "display_name": "Python 3.7.4 ('base')",
   "language": "python",
   "name": "python3"
  },
  "language_info": {
   "codemirror_mode": {
    "name": "ipython",
    "version": 3
   },
   "file_extension": ".py",
   "mimetype": "text/x-python",
   "name": "python",
   "nbconvert_exporter": "python",
   "pygments_lexer": "ipython3",
   "version": "3.7.4"
  },
  "vscode": {
   "interpreter": {
    "hash": "cbb79368fd0a6163e8e4ec12cb943663a1a9bd9955b208dd67f1d4197a8f66bb"
   }
  }
 },
 "nbformat": 4,
 "nbformat_minor": 4
}
