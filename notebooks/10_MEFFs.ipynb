{
 "cells": [
  {
   "cell_type": "code",
   "execution_count": 25,
   "metadata": {},
   "outputs": [],
   "source": [
    "from qbuki import *"
   ]
  },
  {
   "cell_type": "code",
   "execution_count": 28,
   "metadata": {},
   "outputs": [
    {
     "data": {
      "text/plain": [
       "3.464101615137794"
      ]
     },
     "execution_count": 28,
     "metadata": {},
     "output_type": "execute_result"
    }
   ],
   "source": [
    "R = min_quantumness(2, n=4)\n",
    "quantumness(R)"
   ]
  },
  {
   "cell_type": "code",
   "execution_count": 42,
   "metadata": {},
   "outputs": [
    {
     "data": {
      "text/plain": [
       "8.544155691128584"
      ]
     },
     "execution_count": 42,
     "metadata": {},
     "output_type": "execute_result"
    }
   ],
   "source": [
    "R = min_quantumness(3, n=10)\n",
    "quantumness(R)"
   ]
  },
  {
   "cell_type": "code",
   "execution_count": null,
   "metadata": {},
   "outputs": [],
   "source": []
  },
  {
   "cell_type": "code",
   "execution_count": null,
   "metadata": {},
   "outputs": [],
   "source": []
  },
  {
   "cell_type": "code",
   "execution_count": 1478,
   "metadata": {},
   "outputs": [
    {
     "name": "stdout",
     "output_type": "stream",
     "text": [
      "Optimization terminated successfully.    (Exit mode 0)\n",
      "            Current function value: 8.131870832682589e-14\n",
      "            Iterations: 1858\n",
      "            Function evaluations: 4438\n",
      "            Gradient evaluations: 1858\n",
      "[[2.    0.933 0.933 0.933 0.933 0.933 0.933 0.933 0.933 0.933 0.933 0.933\n",
      "  0.933 0.933 0.933 0.933]\n",
      " [0.933 2.    0.933 0.933 0.933 0.933 0.933 0.933 0.933 0.933 0.933 0.933\n",
      "  0.933 0.933 0.933 0.933]\n",
      " [0.933 0.933 2.    0.933 0.933 0.933 0.933 0.933 0.933 0.933 0.933 0.933\n",
      "  0.933 0.933 0.933 0.933]\n",
      " [0.933 0.933 0.933 2.    0.933 0.933 0.933 0.933 0.933 0.933 0.933 0.933\n",
      "  0.933 0.933 0.933 0.933]\n",
      " [0.933 0.933 0.933 0.933 2.    0.933 0.933 0.933 0.933 0.933 0.933 0.933\n",
      "  0.933 0.933 0.933 0.933]\n",
      " [0.933 0.933 0.933 0.933 0.933 2.    0.933 0.933 0.933 0.933 0.933 0.933\n",
      "  0.933 0.933 0.933 0.933]\n",
      " [0.933 0.933 0.933 0.933 0.933 0.933 2.    0.933 0.933 0.933 0.933 0.933\n",
      "  0.933 0.933 0.933 0.933]\n",
      " [0.933 0.933 0.933 0.933 0.933 0.933 0.933 2.    0.933 0.933 0.933 0.933\n",
      "  0.933 0.933 0.933 0.933]\n",
      " [0.933 0.933 0.933 0.933 0.933 0.933 0.933 0.933 2.    0.933 0.933 0.933\n",
      "  0.933 0.933 0.933 0.933]\n",
      " [0.933 0.933 0.933 0.933 0.933 0.933 0.933 0.933 0.933 2.    0.933 0.933\n",
      "  0.933 0.933 0.933 0.933]\n",
      " [0.933 0.933 0.933 0.933 0.933 0.933 0.933 0.933 0.933 0.933 2.    0.933\n",
      "  0.933 0.933 0.933 0.933]\n",
      " [0.933 0.933 0.933 0.933 0.933 0.933 0.933 0.933 0.933 0.933 0.933 2.\n",
      "  0.933 0.933 0.933 0.933]\n",
      " [0.933 0.933 0.933 0.933 0.933 0.933 0.933 0.933 0.933 0.933 0.933 0.933\n",
      "  2.    0.933 0.933 0.933]\n",
      " [0.933 0.933 0.933 0.933 0.933 0.933 0.933 0.933 0.933 0.933 0.933 0.933\n",
      "  0.933 2.    0.933 0.933]\n",
      " [0.933 0.933 0.933 0.933 0.933 0.933 0.933 0.933 0.933 0.933 0.933 0.933\n",
      "  0.933 0.933 2.    0.933]\n",
      " [0.933 0.933 0.933 0.933 0.933 0.933 0.933 0.933 0.933 0.933 0.933 0.933\n",
      "  0.933 0.933 0.933 2.   ]]\n"
     ]
    },
    {
     "ename": "KeyboardInterrupt",
     "evalue": "",
     "output_type": "error",
     "traceback": [
      "\u001b[0;31m---------------------------------------------------------------------------\u001b[0m",
      "\u001b[0;31mKeyboardInterrupt\u001b[0m                         Traceback (most recent call last)",
      "\u001b[0;32m<ipython-input-1478-255e263bdb50>\u001b[0m in \u001b[0;36m<module>\u001b[0;34m\u001b[0m\n\u001b[1;32m      3\u001b[0m \u001b[0mprint\u001b[0m\u001b[0;34m(\u001b[0m\u001b[0;34m(\u001b[0m\u001b[0mM\u001b[0m\u001b[0;34m.\u001b[0m\u001b[0mreshape\u001b[0m\u001b[0;34m(\u001b[0m\u001b[0md\u001b[0m\u001b[0;34m**\u001b[0m\u001b[0;36m2\u001b[0m\u001b[0;34m,\u001b[0m \u001b[0md\u001b[0m\u001b[0;34m**\u001b[0m\u001b[0;36m2\u001b[0m\u001b[0;34m)\u001b[0m \u001b[0;34m@\u001b[0m \u001b[0mM\u001b[0m\u001b[0;34m.\u001b[0m\u001b[0mreshape\u001b[0m\u001b[0;34m(\u001b[0m\u001b[0md\u001b[0m\u001b[0;34m**\u001b[0m\u001b[0;36m2\u001b[0m\u001b[0;34m,\u001b[0m \u001b[0md\u001b[0m\u001b[0;34m**\u001b[0m\u001b[0;36m2\u001b[0m\u001b[0;34m)\u001b[0m\u001b[0;34m.\u001b[0m\u001b[0mconj\u001b[0m\u001b[0;34m(\u001b[0m\u001b[0;34m)\u001b[0m\u001b[0;34m.\u001b[0m\u001b[0mT\u001b[0m\u001b[0;34m)\u001b[0m\u001b[0;34m.\u001b[0m\u001b[0mreal\u001b[0m\u001b[0;34m)\u001b[0m\u001b[0;34m\u001b[0m\u001b[0;34m\u001b[0m\u001b[0m\n\u001b[1;32m      4\u001b[0m \u001b[0;34m\u001b[0m\u001b[0m\n\u001b[0;32m----> 5\u001b[0;31m \u001b[0mU\u001b[0m\u001b[0;34m,\u001b[0m \u001b[0mPi\u001b[0m \u001b[0;34m=\u001b[0m \u001b[0mcheck_meff_wh_cov\u001b[0m\u001b[0;34m(\u001b[0m\u001b[0mM\u001b[0m\u001b[0;34m,\u001b[0m \u001b[0mr\u001b[0m\u001b[0;34m)\u001b[0m\u001b[0;34m\u001b[0m\u001b[0;34m\u001b[0m\u001b[0m\n\u001b[0m\u001b[1;32m      6\u001b[0m \u001b[0mD\u001b[0m \u001b[0;34m=\u001b[0m \u001b[0mdisplacement_operators\u001b[0m\u001b[0;34m(\u001b[0m\u001b[0md\u001b[0m\u001b[0;34m)\u001b[0m\u001b[0;34m\u001b[0m\u001b[0;34m\u001b[0m\u001b[0m\n\u001b[1;32m      7\u001b[0m \u001b[0mprint\u001b[0m\u001b[0;34m(\u001b[0m\u001b[0;34m(\u001b[0m\u001b[0mM\u001b[0m\u001b[0;34m.\u001b[0m\u001b[0mreshape\u001b[0m\u001b[0;34m(\u001b[0m\u001b[0md\u001b[0m\u001b[0;34m**\u001b[0m\u001b[0;36m2\u001b[0m\u001b[0;34m,\u001b[0m \u001b[0md\u001b[0m\u001b[0;34m**\u001b[0m\u001b[0;36m2\u001b[0m\u001b[0;34m)\u001b[0m \u001b[0;34m@\u001b[0m \u001b[0;34m(\u001b[0m\u001b[0mU\u001b[0m \u001b[0;34m@\u001b[0m \u001b[0mD\u001b[0m \u001b[0;34m@\u001b[0m \u001b[0mPi\u001b[0m \u001b[0;34m@\u001b[0m \u001b[0mnp\u001b[0m\u001b[0;34m.\u001b[0m\u001b[0mtranspose\u001b[0m\u001b[0;34m(\u001b[0m\u001b[0mD\u001b[0m\u001b[0;34m,\u001b[0m \u001b[0;34m(\u001b[0m\u001b[0;36m0\u001b[0m\u001b[0;34m,\u001b[0m\u001b[0;36m2\u001b[0m\u001b[0;34m,\u001b[0m\u001b[0;36m1\u001b[0m\u001b[0;34m)\u001b[0m\u001b[0;34m)\u001b[0m\u001b[0;34m.\u001b[0m\u001b[0mconj\u001b[0m\u001b[0;34m(\u001b[0m\u001b[0;34m)\u001b[0m \u001b[0;34m@\u001b[0m \u001b[0mU\u001b[0m\u001b[0;34m.\u001b[0m\u001b[0mconj\u001b[0m\u001b[0;34m(\u001b[0m\u001b[0;34m)\u001b[0m\u001b[0;34m.\u001b[0m\u001b[0mT\u001b[0m\u001b[0;34m)\u001b[0m\u001b[0;34m.\u001b[0m\u001b[0mreshape\u001b[0m\u001b[0;34m(\u001b[0m\u001b[0md\u001b[0m\u001b[0;34m**\u001b[0m\u001b[0;36m2\u001b[0m\u001b[0;34m,\u001b[0m \u001b[0md\u001b[0m\u001b[0;34m**\u001b[0m\u001b[0;36m2\u001b[0m\u001b[0;34m)\u001b[0m\u001b[0;34m.\u001b[0m\u001b[0mconj\u001b[0m\u001b[0;34m(\u001b[0m\u001b[0;34m)\u001b[0m\u001b[0;34m.\u001b[0m\u001b[0mT\u001b[0m\u001b[0;34m)\u001b[0m\u001b[0;34m.\u001b[0m\u001b[0mreal\u001b[0m\u001b[0;34m)\u001b[0m\u001b[0;34m\u001b[0m\u001b[0;34m\u001b[0m\u001b[0m\n",
      "\u001b[0;32m<ipython-input-1475-63b2b2d168dc>\u001b[0m in \u001b[0;36mcheck_meff_wh_cov\u001b[0;34m(M, r, max_iter, tol, options, method, return_goodies)\u001b[0m\n\u001b[1;32m     23\u001b[0m                         \u001b[0mmeff_obj\u001b[0m\u001b[0;34m,\u001b[0m \u001b[0mnp\u001b[0m\u001b[0;34m.\u001b[0m\u001b[0mrandom\u001b[0m\u001b[0;34m.\u001b[0m\u001b[0mrandn\u001b[0m\u001b[0;34m(\u001b[0m\u001b[0;36m2\u001b[0m\u001b[0;34m*\u001b[0m\u001b[0md\u001b[0m\u001b[0;34m**\u001b[0m\u001b[0;36m2\u001b[0m \u001b[0;34m+\u001b[0m \u001b[0;36m2\u001b[0m\u001b[0;34m*\u001b[0m\u001b[0md\u001b[0m\u001b[0;34m*\u001b[0m\u001b[0mr\u001b[0m\u001b[0;34m)\u001b[0m\u001b[0;34m,\u001b[0m\u001b[0;31m\\\u001b[0m\u001b[0;34m\u001b[0m\u001b[0;34m\u001b[0m\u001b[0m\n\u001b[1;32m     24\u001b[0m                         \u001b[0mjac\u001b[0m\u001b[0;34m=\u001b[0m\u001b[0mjax\u001b[0m\u001b[0;34m.\u001b[0m\u001b[0mjit\u001b[0m\u001b[0;34m(\u001b[0m\u001b[0mjax\u001b[0m\u001b[0;34m.\u001b[0m\u001b[0mjacrev\u001b[0m\u001b[0;34m(\u001b[0m\u001b[0mmeff_obj\u001b[0m\u001b[0;34m)\u001b[0m\u001b[0;34m)\u001b[0m\u001b[0;34m,\u001b[0m\u001b[0;31m\\\u001b[0m\u001b[0;34m\u001b[0m\u001b[0;34m\u001b[0m\u001b[0m\n\u001b[0;32m---> 25\u001b[0;31m                         method=\"SLSQP\")\n\u001b[0m\u001b[1;32m     26\u001b[0m         \u001b[0;32mif\u001b[0m \u001b[0mnp\u001b[0m\u001b[0;34m.\u001b[0m\u001b[0misclose\u001b[0m\u001b[0;34m(\u001b[0m\u001b[0mresult\u001b[0m\u001b[0;34m.\u001b[0m\u001b[0mfun\u001b[0m\u001b[0;34m,\u001b[0m \u001b[0;36m0\u001b[0m\u001b[0;34m,\u001b[0m \u001b[0matol\u001b[0m\u001b[0;34m=\u001b[0m\u001b[0;36m1e-3\u001b[0m\u001b[0;34m)\u001b[0m\u001b[0;34m:\u001b[0m\u001b[0;34m\u001b[0m\u001b[0;34m\u001b[0m\u001b[0m\n\u001b[1;32m     27\u001b[0m             \u001b[0;32mif\u001b[0m \u001b[0mreturn_goodies\u001b[0m\u001b[0;34m:\u001b[0m\u001b[0;34m\u001b[0m\u001b[0;34m\u001b[0m\u001b[0m\n",
      "\u001b[0;31mKeyboardInterrupt\u001b[0m: "
     ]
    }
   ],
   "source": [
    "d, r = 3,2\n",
    "M = meff(d, r)\n",
    "print((M.reshape(d**2, d**2) @ M.reshape(d**2, d**2).conj().T).real)\n",
    "\n",
    "U, Pi = check_meff_wh_cov(M, r)\n",
    "D = displacement_operators(d)\n",
    "print((M.reshape(d**2, d**2) @ (U @ D @ Pi @ np.transpose(D, (0,2,1)).conj() @ U.conj().T).reshape(d**2, d**2).conj().T).real)"
   ]
  },
  {
   "cell_type": "code",
   "execution_count": 1,
   "metadata": {},
   "outputs": [],
   "source": [
    "from qbuki import *\n",
    "from itertools import product\n",
    "from functools import reduce"
   ]
  },
  {
   "cell_type": "code",
   "execution_count": 20,
   "metadata": {},
   "outputs": [],
   "source": [
    "def n_products(E, m=3, normalize=False):\n",
    "    if m == 1:\n",
    "        return np.trace(E, axis1=1, axis2=2)\n",
    "    n = E.shape[0]\n",
    "    T = np.zeros([n]*m, dtype=np.complex128)\n",
    "    for p in product(list(range(n)), repeat=m):\n",
    "        t = reduce(lambda a,b: a@b, E[np.array(p)]).trace()\n",
    "        T[p] = t/abs(t) if normalize else t\n",
    "    return T\n",
    "\n",
    "def angle_tensor(E):\n",
    "    return np.angle(n_products(E, m=3, normalize=True))\n",
    "\n",
    "def angle_matrices(E):\n",
    "    n = E.shape[0]\n",
    "    theta = angle_tensor(E)\n",
    "    []"
   ]
  },
  {
   "cell_type": "code",
   "execution_count": 21,
   "metadata": {},
   "outputs": [],
   "source": [
    "E = Operators(sic_povm(2))"
   ]
  },
  {
   "cell_type": "code",
   "execution_count": 24,
   "metadata": {},
   "outputs": [
    {
     "data": {
      "text/plain": [
       "array([[[ 0.   ,  0.   ,  0.   ,  0.   ],\n",
       "        [ 0.   , -0.   , -1.571,  1.571],\n",
       "        [-0.   ,  1.571,  0.   , -1.571],\n",
       "        [-0.   , -1.571,  1.571,  0.   ]],\n",
       "\n",
       "       [[-0.   ,  0.   ,  1.571, -1.571],\n",
       "        [ 0.   ,  0.   ,  0.   ,  0.   ],\n",
       "        [-1.571,  0.   ,  0.   ,  1.571],\n",
       "        [ 1.571, -0.   , -1.571,  0.   ]],\n",
       "\n",
       "       [[ 0.   , -1.571, -0.   ,  1.571],\n",
       "        [ 1.571, -0.   ,  0.   , -1.571],\n",
       "        [ 0.   ,  0.   ,  0.   ,  0.   ],\n",
       "        [-1.571,  1.571,  0.   , -0.   ]],\n",
       "\n",
       "       [[ 0.   ,  1.571, -1.571, -0.   ],\n",
       "        [-1.571,  0.   ,  1.571, -0.   ],\n",
       "        [ 1.571, -1.571, -0.   ,  0.   ],\n",
       "        [ 0.   ,  0.   ,  0.   ,  0.   ]]])"
      ]
     },
     "execution_count": 24,
     "metadata": {},
     "output_type": "execute_result"
    }
   ],
   "source": [
    "n_angle_tensor(E, m=3)"
   ]
  },
  {
   "cell_type": "code",
   "execution_count": 9,
   "metadata": {},
   "outputs": [
    {
     "data": {
      "text/plain": [
       "array([[[ 0.125+0.j   ,  0.042+0.j   ,  0.042+0.j   ,  0.042+0.j   ],\n",
       "        [ 0.042+0.j   ,  0.042-0.j   , -0.   -0.024j, -0.   +0.024j],\n",
       "        [ 0.042-0.j   ,  0.   +0.024j,  0.042+0.j   ,  0.   -0.024j],\n",
       "        [ 0.042-0.j   , -0.   -0.024j,  0.   +0.024j,  0.042+0.j   ]],\n",
       "\n",
       "       [[ 0.042-0.j   ,  0.042+0.j   , -0.   +0.024j, -0.   -0.024j],\n",
       "        [ 0.042+0.j   ,  0.125+0.j   ,  0.042+0.j   ,  0.042+0.j   ],\n",
       "        [ 0.   -0.024j,  0.042+0.j   ,  0.042+0.j   ,  0.   +0.024j],\n",
       "        [-0.   +0.024j,  0.042-0.j   ,  0.   -0.024j,  0.042+0.j   ]],\n",
       "\n",
       "       [[ 0.042+0.j   ,  0.   -0.024j,  0.042-0.j   , -0.   +0.024j],\n",
       "        [ 0.   +0.024j,  0.042-0.j   ,  0.042+0.j   ,  0.   -0.024j],\n",
       "        [ 0.042+0.j   ,  0.042+0.j   ,  0.125+0.j   ,  0.042+0.j   ],\n",
       "        [ 0.   -0.024j,  0.   +0.024j,  0.042+0.j   ,  0.042-0.j   ]],\n",
       "\n",
       "       [[ 0.042+0.j   , -0.   +0.024j,  0.   -0.024j,  0.042-0.j   ],\n",
       "        [-0.   -0.024j,  0.042+0.j   , -0.   +0.024j,  0.042-0.j   ],\n",
       "        [-0.   +0.024j,  0.   -0.024j,  0.042-0.j   ,  0.042+0.j   ],\n",
       "        [ 0.042+0.j   ,  0.042+0.j   ,  0.042+0.j   ,  0.125+0.j   ]]])"
      ]
     },
     "execution_count": 9,
     "metadata": {},
     "output_type": "execute_result"
    }
   ],
   "source": [
    "np.array([[[(a@b@c).trace() for c in E]for b in E] for a in E])"
   ]
  },
  {
   "cell_type": "code",
   "execution_count": null,
   "metadata": {},
   "outputs": [],
   "source": []
  }
 ],
 "metadata": {
  "kernelspec": {
   "display_name": "Python 3.7.4 ('base')",
   "language": "python",
   "name": "python3"
  },
  "language_info": {
   "codemirror_mode": {
    "name": "ipython",
    "version": 3
   },
   "file_extension": ".py",
   "mimetype": "text/x-python",
   "name": "python",
   "nbconvert_exporter": "python",
   "pygments_lexer": "ipython3",
   "version": "3.7.4"
  },
  "orig_nbformat": 4,
  "vscode": {
   "interpreter": {
    "hash": "cbb79368fd0a6163e8e4ec12cb943663a1a9bd9955b208dd67f1d4197a8f66bb"
   }
  }
 },
 "nbformat": 4,
 "nbformat_minor": 2
}
