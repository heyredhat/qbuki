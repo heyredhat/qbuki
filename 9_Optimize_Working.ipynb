{
 "cells": [
  {
   "cell_type": "code",
   "execution_count": 1,
   "metadata": {},
   "outputs": [],
   "source": [
    "from qbuki import *"
   ]
  },
  {
   "cell_type": "code",
   "execution_count": 91,
   "metadata": {},
   "outputs": [],
   "source": [
    "R, S = min_quantumness(2, field=\"complex\", norm=\"p2\", rank1=False, parallel=False, return_params=False, method=\"SLSQP\")"
   ]
  },
  {
   "cell_type": "code",
   "execution_count": 92,
   "metadata": {},
   "outputs": [],
   "source": [
    "R = Operators(R)\n",
    "S = Operators(S)"
   ]
  },
  {
   "cell_type": "code",
   "execution_count": 95,
   "metadata": {},
   "outputs": [
    {
     "data": {
      "text/plain": [
       "array([[1.   +0.j, 0.333-0.j, 0.333-0.j, 0.333-0.j],\n",
       "       [0.333+0.j, 1.   +0.j, 0.333+0.j, 0.333-0.j],\n",
       "       [0.333+0.j, 0.333-0.j, 1.   +0.j, 0.333+0.j],\n",
       "       [0.333+0.j, 0.333+0.j, 0.333-0.j, 1.   +0.j]])"
      ]
     },
     "execution_count": 95,
     "metadata": {},
     "output_type": "execute_result"
    }
   ],
   "source": [
    "S^S"
   ]
  },
  {
   "cell_type": "code",
   "execution_count": 94,
   "metadata": {},
   "outputs": [
    {
     "data": {
      "text/plain": [
       "array([[0.5  -0.j, 0.167+0.j, 0.167-0.j, 0.167+0.j],\n",
       "       [0.167-0.j, 0.5  -0.j, 0.167-0.j, 0.167-0.j],\n",
       "       [0.167+0.j, 0.167-0.j, 0.5  -0.j, 0.167-0.j],\n",
       "       [0.167+0.j, 0.167-0.j, 0.167+0.j, 0.5  -0.j]])"
      ]
     },
     "execution_count": 94,
     "metadata": {},
     "output_type": "execute_result"
    }
   ],
   "source": [
    "R|S"
   ]
  },
  {
   "cell_type": "code",
   "execution_count": 46,
   "metadata": {},
   "outputs": [
    {
     "data": {
      "text/plain": [
       "array([[1.   +0.j, 0.333-0.j, 0.333-0.j, 0.333+0.j],\n",
       "       [0.333+0.j, 1.   +0.j, 0.333+0.j, 0.333-0.j],\n",
       "       [0.333+0.j, 0.333-0.j, 1.   +0.j, 0.333-0.j],\n",
       "       [0.333-0.j, 0.333+0.j, 0.333+0.j, 1.   +0.j]])"
      ]
     },
     "execution_count": 46,
     "metadata": {},
     "output_type": "execute_result"
    }
   ],
   "source": [
    "S^S"
   ]
  },
  {
   "cell_type": "code",
   "execution_count": 101,
   "metadata": {},
   "outputs": [
    {
     "data": {
      "text/plain": [
       "array([0.389, 0.1  , 0.021, 0.571])"
      ]
     },
     "execution_count": 101,
     "metadata": {},
     "output_type": "execute_result"
    }
   ],
   "source": [
    "np.einsum(\"...ji, ...jk, ...lk, ...li\", K, K, K, K)\n",
    "\n",
    "\n",
    "#ijk, mkj\n"
   ]
  },
  {
   "cell_type": "code",
   "execution_count": 13,
   "metadata": {},
   "outputs": [],
   "source": [
    "K = rand_kraus(2, 4)"
   ]
  },
  {
   "cell_type": "code",
   "execution_count": 15,
   "metadata": {},
   "outputs": [
    {
     "data": {
      "text/plain": [
       "array([[0.335+0.j, 0.335+0.j, 0.335+0.j, 0.335+0.j],\n",
       "       [0.442+0.j, 0.442+0.j, 0.442+0.j, 0.442+0.j],\n",
       "       [0.839+0.j, 0.839+0.j, 0.839+0.j, 0.839+0.j],\n",
       "       [0.384+0.j, 0.384+0.j, 0.384+0.j, 0.384+0.j]])"
      ]
     },
     "execution_count": 15,
     "metadata": {},
     "output_type": "execute_result"
    }
   ],
   "source": [
    "np.tile(np.einsum(\"aji, aji -> a\", K.conj(), K), (K.shape[0],1)).T"
   ]
  },
  {
   "cell_type": "code",
   "execution_count": 16,
   "metadata": {},
   "outputs": [
    {
     "data": {
      "text/plain": [
       "[(0.3348097619502003+0j),\n",
       " (0.4421153922135647+0j),\n",
       " (0.839097080392446+0j),\n",
       " (0.3839777654437869+0j)]"
      ]
     },
     "execution_count": 16,
     "metadata": {},
     "output_type": "execute_result"
    }
   ],
   "source": [
    "[(k.conj().T @ k).trace() for k in K]"
   ]
  },
  {
   "cell_type": "code",
   "execution_count": 142,
   "metadata": {},
   "outputs": [
    {
     "data": {
      "text/plain": [
       "0.6707370521027816"
      ]
     },
     "execution_count": 142,
     "metadata": {},
     "output_type": "execute_result"
    }
   ],
   "source": [
    "np.sqrt(K[0].trace())"
   ]
  },
  {
   "cell_type": "code",
   "execution_count": 135,
   "metadata": {},
   "outputs": [
    {
     "name": "stdout",
     "output_type": "stream",
     "text": [
      "145 µs ± 10.6 µs per loop (mean ± std. dev. of 7 runs, 10000 loops each)\n"
     ]
    }
   ],
   "source": [
    "%timeit np.einsum(\"aji, ajk, blk, bli -> ab\", *[K]*4, optimize='optimal')\n"
   ]
  },
  {
   "cell_type": "code",
   "execution_count": 51,
   "metadata": {},
   "outputs": [
    {
     "data": {
      "text/plain": [
       "array([[0.389, 0.143, 0.075, 0.073],\n",
       "       [0.143, 0.1  , 0.031, 0.063],\n",
       "       [0.075, 0.031, 0.021, 0.075],\n",
       "       [0.073, 0.063, 0.075, 0.571]])"
      ]
     },
     "execution_count": 51,
     "metadata": {},
     "output_type": "execute_result"
    }
   ],
   "source": [
    "A = E.reshape(E.shape[0], np.prod(E.shape[1:]))\n",
    "A @ A.T"
   ]
  },
  {
   "cell_type": "code",
   "execution_count": 54,
   "metadata": {},
   "outputs": [
    {
     "data": {
      "text/plain": [
       "array([[0.389, 0.143, 0.075, 0.073],\n",
       "       [0.143, 0.1  , 0.031, 0.063],\n",
       "       [0.075, 0.031, 0.021, 0.075],\n",
       "       [0.073, 0.063, 0.075, 0.571]])"
      ]
     },
     "execution_count": 54,
     "metadata": {},
     "output_type": "execute_result"
    }
   ],
   "source": [
    "np.einsum(\"ijk, mkj\", E, E)"
   ]
  },
  {
   "cell_type": "code",
   "execution_count": 18,
   "metadata": {},
   "outputs": [
    {
     "data": {
      "text/plain": [
       "array([[0.286+0.j, 0.169-0.j, 0.135+0.j, 0.134+0.j],\n",
       "       [0.223-0.j, 0.23 +0.j, 0.204+0.j, 0.246-0.j],\n",
       "       [0.338+0.j, 0.388-0.j, 0.519-0.j, 0.31 -0.j],\n",
       "       [0.153+0.j, 0.213-0.j, 0.142+0.j, 0.311-0.j]])"
      ]
     },
     "execution_count": 18,
     "metadata": {},
     "output_type": "execute_result"
    }
   ],
   "source": [
    "W = Operators(np.array([k.conj().T @ k for k in K]))\n",
    "W|W"
   ]
  },
  {
   "cell_type": "code",
   "execution_count": 20,
   "metadata": {},
   "outputs": [
    {
     "data": {
      "text/plain": [
       "array([[0.286+0.j, 0.169-0.j, 0.135+0.j, 0.134+0.j],\n",
       "       [0.223-0.j, 0.23 -0.j, 0.204+0.j, 0.246+0.j],\n",
       "       [0.338-0.j, 0.388-0.j, 0.519+0.j, 0.31 +0.j],\n",
       "       [0.153-0.j, 0.213-0.j, 0.142-0.j, 0.311-0.j]])"
      ]
     },
     "execution_count": 20,
     "metadata": {},
     "output_type": "execute_result"
    }
   ],
   "source": [
    "np.einsum(\"aji, ajk, blk, bli -> ab\", K.conj(), K, K.conj(), K)/np.tile(np.einsum(\"aji, aji -> a\", K.conj(), K), (K.shape[0],1))\n"
   ]
  },
  {
   "cell_type": "code",
   "execution_count": 171,
   "metadata": {},
   "outputs": [
    {
     "data": {
      "text/plain": [
       "0.9999999999999996"
      ]
     },
     "execution_count": 171,
     "metadata": {},
     "output_type": "execute_result"
    }
   ],
   "source": [
    "sum((W|W)[:,0])"
   ]
  },
  {
   "cell_type": "markdown",
   "metadata": {},
   "source": []
  }
 ],
 "metadata": {
  "interpreter": {
   "hash": "cbb79368fd0a6163e8e4ec12cb943663a1a9bd9955b208dd67f1d4197a8f66bb"
  },
  "kernelspec": {
   "display_name": "Python 3.7.4 ('base')",
   "language": "python",
   "name": "python3"
  },
  "language_info": {
   "codemirror_mode": {
    "name": "ipython",
    "version": 3
   },
   "file_extension": ".py",
   "mimetype": "text/x-python",
   "name": "python",
   "nbconvert_exporter": "python",
   "pygments_lexer": "ipython3",
   "version": "3.7.4"
  },
  "orig_nbformat": 4
 },
 "nbformat": 4,
 "nbformat_minor": 2
}
