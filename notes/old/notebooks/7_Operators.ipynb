{
 "cells": [
  {
   "cell_type": "code",
   "execution_count": 1,
   "metadata": {},
   "outputs": [],
   "source": [
    "from qbuki import *"
   ]
  },
  {
   "cell_type": "markdown",
   "metadata": {},
   "source": [
    "# qbuki.operators\n",
    "\n",
    "`qbuki.operators` provides a useful abstraction for dealing with collections of operators. For example, we can wrap a POVM:"
   ]
  },
  {
   "cell_type": "code",
   "execution_count": 2,
   "metadata": {},
   "outputs": [
    {
     "data": {
      "text/plain": [
       "2"
      ]
     },
     "execution_count": 2,
     "metadata": {},
     "output_type": "execute_result"
    }
   ],
   "source": [
    "E = Operators(rand_povm(2, 4))\n",
    "E.dim()"
   ]
  },
  {
   "cell_type": "markdown",
   "metadata": {},
   "source": [
    "We can treat an `E` like it's an array:"
   ]
  },
  {
   "cell_type": "code",
   "execution_count": 3,
   "metadata": {},
   "outputs": [
    {
     "data": {
      "text/plain": [
       "4"
      ]
     },
     "execution_count": 3,
     "metadata": {},
     "output_type": "execute_result"
    }
   ],
   "source": [
    "len(E)"
   ]
  },
  {
   "cell_type": "code",
   "execution_count": 4,
   "metadata": {},
   "outputs": [
    {
     "data": {
      "text/plain": [
       "array([[[0.581+0.j   , 0.051+0.183j],\n",
       "        [0.051-0.183j, 0.162+0.j   ]],\n",
       "\n",
       "       [[0.107-0.j   , 0.014-0.048j],\n",
       "        [0.014+0.048j, 0.211-0.j   ]]])"
      ]
     },
     "execution_count": 4,
     "metadata": {},
     "output_type": "execute_result"
    }
   ],
   "source": [
    "E[0:2]"
   ]
  },
  {
   "cell_type": "code",
   "execution_count": 5,
   "metadata": {},
   "outputs": [],
   "source": [
    "E[0] = np.eye(2)"
   ]
  },
  {
   "cell_type": "code",
   "execution_count": 6,
   "metadata": {},
   "outputs": [
    {
     "data": {
      "text/plain": [
       "array([2.   +0.j, 0.318-0.j, 0.547-0.j, 0.392-0.j])"
      ]
     },
     "execution_count": 6,
     "metadata": {},
     "output_type": "execute_result"
    }
   ],
   "source": [
    "np.array([e.trace() for e in E])"
   ]
  },
  {
   "cell_type": "markdown",
   "metadata": {},
   "source": [
    "Or conveniently:"
   ]
  },
  {
   "cell_type": "code",
   "execution_count": 7,
   "metadata": {},
   "outputs": [
    {
     "data": {
      "text/plain": [
       "array([2.   +0.j, 0.318-0.j, 0.547-0.j, 0.392-0.j])"
      ]
     },
     "execution_count": 7,
     "metadata": {},
     "output_type": "execute_result"
    }
   ],
   "source": [
    "E.bias()"
   ]
  },
  {
   "cell_type": "code",
   "execution_count": 8,
   "metadata": {},
   "outputs": [
    {
     "data": {
      "text/plain": [
       "array([[1.+0.j, 0.-0.j],\n",
       "       [0.+0.j, 1.+0.j]])"
      ]
     },
     "execution_count": 8,
     "metadata": {},
     "output_type": "execute_result"
    }
   ],
   "source": [
    "E = Operators(rand_povm(2, 4))\n",
    "sum(E)"
   ]
  },
  {
   "cell_type": "markdown",
   "metadata": {},
   "source": [
    "Indeed, `E.conj()` complex conjugates each element in each operator, and `E.T` transposes each operator individually.\n",
    "\n",
    "`A @ B` pariwise multiplies elements of A and B.\n",
    "\n",
    "`A + B` concatenates the two collections of matrices, one after the other.\n",
    "\n",
    "`A & B` gives the tensor product of each element of A with each element of B.\n",
    "\n",
    "`aA = Aa` gives a scalar multiplication of each operator, and `A/a` scalar division.\n",
    "\n",
    "`A.upgrade(i, dims)` upgrades each element to be supported on the i'th tensor factor of a tensor product with dimensions `dims`."
   ]
  },
  {
   "cell_type": "markdown",
   "metadata": {},
   "source": [
    "It's often useful to work with the matrix whose columns are the vectorized operators in the collection:"
   ]
  },
  {
   "cell_type": "code",
   "execution_count": 9,
   "metadata": {},
   "outputs": [
    {
     "data": {
      "text/plain": [
       "array([[ 0.067-0.j   ,  0.356+0.j   ,  0.345+0.j   ,  0.232-0.j   ],\n",
       "       [ 0.054-0.012j, -0.24 -0.135j, -0.018-0.052j,  0.203+0.199j],\n",
       "       [ 0.054+0.012j, -0.24 +0.135j, -0.018+0.052j,  0.203-0.199j],\n",
       "       [ 0.099-0.j   ,  0.252+0.j   ,  0.268+0.j   ,  0.381-0.j   ]])"
      ]
     },
     "execution_count": 9,
     "metadata": {},
     "output_type": "execute_result"
    }
   ],
   "source": [
    "E.flatten()"
   ]
  },
  {
   "cell_type": "markdown",
   "metadata": {},
   "source": [
    "We can obtain the matrix of traces between elements of two sets of operators (the Gram matrix):"
   ]
  },
  {
   "cell_type": "code",
   "execution_count": 10,
   "metadata": {},
   "outputs": [
    {
     "data": {
      "text/plain": [
       "array([[0.021+0.j, 0.026-0.j, 0.049+0.j, 0.071+0.j],\n",
       "       [0.026+0.j, 0.342+0.j, 0.213-0.j, 0.027+0.j],\n",
       "       [0.049-0.j, 0.213+0.j, 0.197+0.j, 0.154+0.j],\n",
       "       [0.071-0.j, 0.027-0.j, 0.154-0.j, 0.36 +0.j]])"
      ]
     },
     "execution_count": 10,
     "metadata": {},
     "output_type": "execute_result"
    }
   ],
   "source": [
    "E^E"
   ]
  },
  {
   "cell_type": "markdown",
   "metadata": {},
   "source": [
    "As well as its spectral inverse:"
   ]
  },
  {
   "cell_type": "code",
   "execution_count": 11,
   "metadata": {},
   "outputs": [
    {
     "data": {
      "text/plain": [
       "array([[ 574.151+0.j,  154.509-0.j, -320.288+0.j,   12.69 -0.j],\n",
       "       [ 154.509+0.j,   74.736+0.j, -137.177+0.j,   22.783-0.j],\n",
       "       [-320.288-0.j, -137.177-0.j,  264.716+0.j,  -40.14 +0.j],\n",
       "       [  12.69 +0.j,   22.783+0.j,  -40.14 -0.j,   15.778+0.j]])"
      ]
     },
     "execution_count": 11,
     "metadata": {},
     "output_type": "execute_result"
    }
   ],
   "source": [
    "~E^E"
   ]
  },
  {
   "cell_type": "markdown",
   "metadata": {},
   "source": [
    "The two sets of operators need not be the same:"
   ]
  },
  {
   "cell_type": "code",
   "execution_count": 12,
   "metadata": {},
   "outputs": [
    {
     "data": {
      "text/plain": [
       "array([[0.026-0.j, 0.147+0.j, 0.181-0.j, 0.14 -0.j],\n",
       "       [0.035-0.j, 0.076-0.j, 0.278-0.j, 0.191+0.j],\n",
       "       [0.016+0.j, 0.246+0.j, 0.181+0.j, 0.171+0.j],\n",
       "       [0.003-0.j, 0.04 -0.j, 0.162+0.j, 0.106+0.j]])"
      ]
     },
     "execution_count": 12,
     "metadata": {},
     "output_type": "execute_result"
    }
   ],
   "source": [
    "A = Operators(rand_povm(2, 4))\n",
    "B = Operators(rand_povm(2, 4))\n",
    "A^B"
   ]
  },
  {
   "cell_type": "markdown",
   "metadata": {},
   "source": [
    "Similarly, we can obtain the matrix of traces between elements of two sets of operators, where the second set are divided out by their traces. If we're working with two POVM's, this gives us a conditional probability matrix. "
   ]
  },
  {
   "cell_type": "code",
   "execution_count": 13,
   "metadata": {},
   "outputs": [
    {
     "data": {
      "text/plain": [
       "array([[0.322-0.j, 0.288-0.j, 0.226-0.j, 0.23 -0.j],\n",
       "       [0.438-0.j, 0.15 -0.j, 0.347+0.j, 0.314-0.j],\n",
       "       [0.198+0.j, 0.483+0.j, 0.226+0.j, 0.282+0.j],\n",
       "       [0.042-0.j, 0.079-0.j, 0.202+0.j, 0.174+0.j]])"
      ]
     },
     "execution_count": 13,
     "metadata": {},
     "output_type": "execute_result"
    }
   ],
   "source": [
    "A|B"
   ]
  },
  {
   "cell_type": "markdown",
   "metadata": {},
   "source": [
    "We can then obtain the so-called Born matrix, given by the spectral inverse of the conditional probability matrix for a repeated measurement of a reference apparatus:"
   ]
  },
  {
   "cell_type": "code",
   "execution_count": 14,
   "metadata": {},
   "outputs": [
    {
     "data": {
      "text/plain": [
       "array([[ 2.5+0.j, -0.5-0.j, -0.5+0.j, -0.5-0.j],\n",
       "       [-0.5+0.j,  2.5-0.j, -0.5-0.j, -0.5+0.j],\n",
       "       [-0.5+0.j, -0.5-0.j,  2.5+0.j, -0.5-0.j],\n",
       "       [-0.5-0.j, -0.5+0.j, -0.5-0.j,  2.5+0.j]])"
      ]
     },
     "execution_count": 14,
     "metadata": {},
     "output_type": "execute_result"
    }
   ],
   "source": [
    "R = Operators(sic_povm(2))\n",
    "~R|R"
   ]
  },
  {
   "cell_type": "markdown",
   "metadata": {},
   "source": [
    "And thus calculate the quantumness with respect to some p-norm:\n",
    "\n",
    "$$ ||I_n - \\Phi||_p$$"
   ]
  },
  {
   "cell_type": "code",
   "execution_count": 15,
   "metadata": {},
   "outputs": [
    {
     "data": {
      "text/plain": [
       "3.4641016151377535"
      ]
     },
     "execution_count": 15,
     "metadata": {},
     "output_type": "execute_result"
    }
   ],
   "source": [
    "pnorm(np.eye(4) - (~R|R), p=2)"
   ]
  },
  {
   "cell_type": "markdown",
   "metadata": {},
   "source": [
    "Of course, the post-measurement states need not be proportional to POVM elements:"
   ]
  },
  {
   "cell_type": "code",
   "execution_count": 62,
   "metadata": {},
   "outputs": [
    {
     "data": {
      "text/plain": [
       "13.263502155383078"
      ]
     },
     "execution_count": 62,
     "metadata": {},
     "output_type": "execute_result"
    }
   ],
   "source": [
    "R = Operators(sic_povm(2))\n",
    "S = Operators(rand_povm(2))\n",
    "pnorm(np.eye(4) - (~R|S), p=2)"
   ]
  },
  {
   "cell_type": "markdown",
   "metadata": {},
   "source": [
    "Or:"
   ]
  },
  {
   "cell_type": "code",
   "execution_count": 63,
   "metadata": {},
   "outputs": [
    {
     "data": {
      "text/plain": [
       "13.263502155383078"
      ]
     },
     "execution_count": 63,
     "metadata": {},
     "output_type": "execute_result"
    }
   ],
   "source": [
    "quantumness(R, S, p=2)"
   ]
  },
  {
   "cell_type": "markdown",
   "metadata": {},
   "source": [
    "We can expand an operator (for example, a density matrix) in terms of the elements of our collection. In the case of a POVM, this gives us the probabilities for the outcomes of the measurement: "
   ]
  },
  {
   "cell_type": "code",
   "execution_count": 17,
   "metadata": {},
   "outputs": [
    {
     "data": {
      "text/plain": [
       "array([[0.949+0.j   , 0.136+0.132j],\n",
       "       [0.136-0.132j, 0.051+0.j   ]])"
      ]
     },
     "execution_count": 17,
     "metadata": {},
     "output_type": "execute_result"
    }
   ],
   "source": [
    "E = Operators(rand_povm(2))\n",
    "rho = rand_dm(2); rho"
   ]
  },
  {
   "cell_type": "code",
   "execution_count": 18,
   "metadata": {},
   "outputs": [
    {
     "data": {
      "text/plain": [
       "array([[0.103+0.j],\n",
       "       [0.47 +0.j],\n",
       "       [0.222+0.j],\n",
       "       [0.205+0.j]])"
      ]
     },
     "execution_count": 18,
     "metadata": {},
     "output_type": "execute_result"
    }
   ],
   "source": [
    "E << rho"
   ]
  },
  {
   "cell_type": "markdown",
   "metadata": {},
   "source": [
    "And of course, we can go in reverse:"
   ]
  },
  {
   "cell_type": "code",
   "execution_count": 19,
   "metadata": {},
   "outputs": [
    {
     "data": {
      "text/plain": [
       "array([[0.949+0.j   , 0.136+0.132j],\n",
       "       [0.136-0.132j, 0.051+0.j   ]])"
      ]
     },
     "execution_count": 19,
     "metadata": {},
     "output_type": "execute_result"
    }
   ],
   "source": [
    "E << (E << rho)"
   ]
  },
  {
   "cell_type": "markdown",
   "metadata": {},
   "source": [
    "Any set of operators that span the operator space will do. For example, the discrete displacement operators provide a unitary operator basis:"
   ]
  },
  {
   "cell_type": "code",
   "execution_count": 20,
   "metadata": {},
   "outputs": [
    {
     "data": {
      "text/plain": [
       "array([[2.+0.j, 0.+0.j, 0.+0.j, 0.+0.j],\n",
       "       [0.-0.j, 2.+0.j, 0.+0.j, 0.+0.j],\n",
       "       [0.+0.j, 0.+0.j, 2.+0.j, 0.+0.j],\n",
       "       [0.+0.j, 0.+0.j, 0.+0.j, 2.+0.j]])"
      ]
     },
     "execution_count": 20,
     "metadata": {},
     "output_type": "execute_result"
    }
   ],
   "source": [
    "D = Operators(displacement_operators(2))\n",
    "D^D"
   ]
  },
  {
   "cell_type": "code",
   "execution_count": 21,
   "metadata": {},
   "outputs": [
    {
     "data": {
      "text/plain": [
       "array([[1.   +0.j],\n",
       "       [0.897-0.j],\n",
       "       [0.272+0.j],\n",
       "       [0.264+0.j]])"
      ]
     },
     "execution_count": 21,
     "metadata": {},
     "output_type": "execute_result"
    }
   ],
   "source": [
    "D << rho"
   ]
  },
  {
   "cell_type": "code",
   "execution_count": 22,
   "metadata": {},
   "outputs": [
    {
     "data": {
      "text/plain": [
       "array([[0.949+0.j   , 0.136+0.132j],\n",
       "       [0.136-0.132j, 0.051+0.j   ]])"
      ]
     },
     "execution_count": 22,
     "metadata": {},
     "output_type": "execute_result"
    }
   ],
   "source": [
    "D << (D << rho)"
   ]
  },
  {
   "cell_type": "markdown",
   "metadata": {},
   "source": [
    "We can now express the fundamental lesson of quantum mechanics in QBist terms. Suppose we have a reference measurement $A$, consisting of an informationally complete POVM and a set of post-measurement states $S$ that span the operator space as well. We also have a second measurement $B$. We can calculate the probabilities for the outcomes of $B$, supposing we've encoded our beliefs about a quantum system as a density matrix $\\rho$, and we send $\\rho$ into $A$ first, and then $B$. The probabilities are given by the classical law of total probability:"
   ]
  },
  {
   "cell_type": "code",
   "execution_count": 29,
   "metadata": {},
   "outputs": [],
   "source": [
    "A = Operators(rand_povm(2, 4))\n",
    "S = Operators(np.array([rand_dm(2) for i in range(4)]))\n",
    "B = Operators(rand_povm(2, 4))\n",
    "rho = rand_dm(2)"
   ]
  },
  {
   "cell_type": "code",
   "execution_count": 30,
   "metadata": {},
   "outputs": [
    {
     "data": {
      "text/plain": [
       "array([[0.338+0.j],\n",
       "       [0.186+0.j],\n",
       "       [0.313+0.j],\n",
       "       [0.163+0.j]])"
      ]
     },
     "execution_count": 30,
     "metadata": {},
     "output_type": "execute_result"
    }
   ],
   "source": [
    "(B|S) @ (A << rho)"
   ]
  },
  {
   "cell_type": "markdown",
   "metadata": {},
   "source": [
    "Or equivalently:"
   ]
  },
  {
   "cell_type": "code",
   "execution_count": 31,
   "metadata": {},
   "outputs": [
    {
     "data": {
      "text/plain": [
       "array([[0.338+0.j],\n",
       "       [0.186+0.j],\n",
       "       [0.313+0.j],\n",
       "       [0.163+0.j]])"
      ]
     },
     "execution_count": 31,
     "metadata": {},
     "output_type": "execute_result"
    }
   ],
   "source": [
    "B << sum(p*S[i] for i, p in enumerate(A << rho))"
   ]
  },
  {
   "cell_type": "markdown",
   "metadata": {},
   "source": [
    "But what if we instead send the system directly into $B$, without actually going into $A$ first? Can we calculate the probabilities for $B$ in terms of the probabilities for $A$? Yes! We generalize the law of total probability in an elegant way:"
   ]
  },
  {
   "cell_type": "code",
   "execution_count": 33,
   "metadata": {},
   "outputs": [
    {
     "data": {
      "text/plain": [
       "array([[0.311-0.j],\n",
       "       [0.09 -0.j],\n",
       "       [0.356-0.j],\n",
       "       [0.243+0.j]])"
      ]
     },
     "execution_count": 33,
     "metadata": {},
     "output_type": "execute_result"
    }
   ],
   "source": [
    "(B|S) @ (~A|S) @ (A << rho)"
   ]
  },
  {
   "cell_type": "code",
   "execution_count": 34,
   "metadata": {},
   "outputs": [
    {
     "data": {
      "text/plain": [
       "array([[0.311-0.j],\n",
       "       [0.09 -0.j],\n",
       "       [0.356-0.j],\n",
       "       [0.243-0.j]])"
      ]
     },
     "execution_count": 34,
     "metadata": {},
     "output_type": "execute_result"
    }
   ],
   "source": [
    "B << rho"
   ]
  },
  {
   "cell_type": "markdown",
   "metadata": {},
   "source": [
    "It's also worth noting that we can recover the Hilbert-Schmidt inner product between operators in a similar way:"
   ]
  },
  {
   "cell_type": "code",
   "execution_count": 36,
   "metadata": {},
   "outputs": [
    {
     "data": {
      "text/plain": [
       "(0.4421876293419963+0j)"
      ]
     },
     "execution_count": 36,
     "metadata": {},
     "output_type": "execute_result"
    }
   ],
   "source": [
    "rho = rand_dm(2)\n",
    "sigma = rand_dm(2)\n",
    "(rho@sigma).trace()"
   ]
  },
  {
   "cell_type": "code",
   "execution_count": 39,
   "metadata": {},
   "outputs": [
    {
     "data": {
      "text/plain": [
       "array([[0.442-0.j]])"
      ]
     },
     "execution_count": 39,
     "metadata": {},
     "output_type": "execute_result"
    }
   ],
   "source": [
    "(S << sigma).T @ (~R^S) @ (R << rho)"
   ]
  },
  {
   "cell_type": "markdown",
   "metadata": {},
   "source": [
    "Moving on, our operators could be Kraus operators representing a quantum channel:"
   ]
  },
  {
   "cell_type": "code",
   "execution_count": 40,
   "metadata": {},
   "outputs": [
    {
     "data": {
      "text/plain": [
       "array([[ 1.+0.j, -0.-0.j],\n",
       "       [-0.+0.j,  1.+0.j]])"
      ]
     },
     "execution_count": 40,
     "metadata": {},
     "output_type": "execute_result"
    }
   ],
   "source": [
    "K = Operators(rand_kraus(2, 4))\n",
    "sum(K.conj().T @ K)"
   ]
  },
  {
   "cell_type": "markdown",
   "metadata": {},
   "source": [
    "We can obtain the superoperator corresponding to the channel: "
   ]
  },
  {
   "cell_type": "code",
   "execution_count": 41,
   "metadata": {},
   "outputs": [
    {
     "data": {
      "text/plain": [
       "array([ 0.54 +0.j   , -0.077-0.055j, -0.077+0.055j,  0.46 +0.j   ])"
      ]
     },
     "execution_count": 41,
     "metadata": {},
     "output_type": "execute_result"
    }
   ],
   "source": [
    "K.superoperator() @ rho.flatten()"
   ]
  },
  {
   "cell_type": "code",
   "execution_count": 42,
   "metadata": {},
   "outputs": [
    {
     "data": {
      "text/plain": [
       "array([ 0.54 +0.j   , -0.077-0.055j, -0.077+0.055j,  0.46 -0.j   ])"
      ]
     },
     "execution_count": 42,
     "metadata": {},
     "output_type": "execute_result"
    }
   ],
   "source": [
    "sum([k @ rho @ k.conj().T for k in K]).flatten()"
   ]
  },
  {
   "cell_type": "markdown",
   "metadata": {},
   "source": [
    "More simply, we can express this as:"
   ]
  },
  {
   "cell_type": "code",
   "execution_count": 43,
   "metadata": {},
   "outputs": [
    {
     "data": {
      "text/plain": [
       "array([[ 0.54 +0.j   , -0.077-0.055j],\n",
       "       [-0.077+0.055j,  0.46 +0.j   ]])"
      ]
     },
     "execution_count": 43,
     "metadata": {},
     "output_type": "execute_result"
    }
   ],
   "source": [
    "K < rho"
   ]
  },
  {
   "cell_type": "markdown",
   "metadata": {},
   "source": [
    "Moreover, we can apply the channel to each operator in a collection:"
   ]
  },
  {
   "cell_type": "code",
   "execution_count": 44,
   "metadata": {},
   "outputs": [
    {
     "data": {
      "text/plain": [
       "<qbuki.operators.Operators at 0x7f8fd8c1cc50>"
      ]
     },
     "execution_count": 44,
     "metadata": {},
     "output_type": "execute_result"
    }
   ],
   "source": [
    "K < E"
   ]
  },
  {
   "cell_type": "markdown",
   "metadata": {},
   "source": [
    "Indeed, we can use this to express the action of a channel in QBist terms. For example, unitary evolution:"
   ]
  },
  {
   "cell_type": "code",
   "execution_count": 46,
   "metadata": {},
   "outputs": [
    {
     "data": {
      "text/plain": [
       "array([[0.252+0.j],\n",
       "       [0.199+0.j],\n",
       "       [0.075+0.j],\n",
       "       [0.474+0.j]])"
      ]
     },
     "execution_count": 46,
     "metadata": {},
     "output_type": "execute_result"
    }
   ],
   "source": [
    "U = Operators(rand_unitary(2))\n",
    "R << (U < rho)"
   ]
  },
  {
   "cell_type": "code",
   "execution_count": 48,
   "metadata": {},
   "outputs": [
    {
     "data": {
      "text/plain": [
       "array([[0.252-0.j],\n",
       "       [0.199+0.j],\n",
       "       [0.075+0.j],\n",
       "       [0.474-0.j]])"
      ]
     },
     "execution_count": 48,
     "metadata": {},
     "output_type": "execute_result"
    }
   ],
   "source": [
    "(R|(U < S)) @ (~R|S) @ (R << rho)"
   ]
  },
  {
   "cell_type": "markdown",
   "metadata": {},
   "source": [
    "We can also obtain the so-called frame superoperator:"
   ]
  },
  {
   "cell_type": "code",
   "execution_count": 49,
   "metadata": {},
   "outputs": [
    {
     "data": {
      "text/plain": [
       "array([[ 0.664+0.j   , -0.196+0.09j , -0.196-0.09j ,  0.336+0.j   ],\n",
       "       [-0.051+0.033j,  0.085+0.001j, -0.05 -0.073j,  0.051-0.033j],\n",
       "       [-0.051-0.033j, -0.05 +0.073j,  0.085-0.001j,  0.051+0.033j],\n",
       "       [ 0.582+0.j   , -0.219+0.011j, -0.219-0.011j,  0.418+0.j   ]])"
      ]
     },
     "execution_count": 49,
     "metadata": {},
     "output_type": "execute_result"
    }
   ],
   "source": [
    "R // S"
   ]
  },
  {
   "cell_type": "markdown",
   "metadata": {},
   "source": [
    "And its spectral inverse:"
   ]
  },
  {
   "cell_type": "code",
   "execution_count": 50,
   "metadata": {},
   "outputs": [
    {
     "data": {
      "text/plain": [
       "array([[ -6.465 -0.j   , -18.158+13.742j, -18.158-13.742j,\n",
       "          7.465 +0.j   ],\n",
       "       [-16.999 -9.775j, -40.965+12.981j, -21.277-41.326j,\n",
       "         16.999 +9.775j],\n",
       "       [-16.999 +9.775j, -21.277+41.326j, -40.965-12.981j,\n",
       "         16.999 -9.775j],\n",
       "       [ -9.334 -0.j   ,  -8.07  +9.835j,  -8.07  -9.835j,\n",
       "         10.334 +0.j   ]])"
      ]
     },
     "execution_count": 50,
     "metadata": {},
     "output_type": "execute_result"
    }
   ],
   "source": [
    "~R // S"
   ]
  },
  {
   "cell_type": "markdown",
   "metadata": {},
   "source": [
    "We can use these to calculate dual elements. Or more directly:"
   ]
  },
  {
   "cell_type": "code",
   "execution_count": 53,
   "metadata": {},
   "outputs": [
    {
     "data": {
      "text/plain": [
       "array([[-7.752-0.j],\n",
       "       [ 3.511+0.j],\n",
       "       [ 3.372-0.j],\n",
       "       [ 1.869-0.j]])"
      ]
     },
     "execution_count": 53,
     "metadata": {},
     "output_type": "execute_result"
    }
   ],
   "source": [
    "R**S << rho"
   ]
  },
  {
   "cell_type": "code",
   "execution_count": 54,
   "metadata": {},
   "outputs": [
    {
     "data": {
      "text/plain": [
       "array([[-7.752+0.j],\n",
       "       [ 3.511-0.j],\n",
       "       [ 3.372-0.j],\n",
       "       [ 1.869-0.j]])"
      ]
     },
     "execution_count": 54,
     "metadata": {},
     "output_type": "execute_result"
    }
   ],
   "source": [
    "(~R|S) @ (R << rho)"
   ]
  },
  {
   "cell_type": "code",
   "execution_count": 57,
   "metadata": {},
   "outputs": [
    {
     "data": {
      "text/plain": [
       "array([[-66.677+0.j,  42.387-0.j, -27.323+0.j,  14.159-0.j],\n",
       "       [ 36.989-0.j, -18.528+0.j,  14.315-0.j, -12.719+0.j],\n",
       "       [  9.268-0.j,  -9.209+0.j,   8.347-0.j,   0.762+0.j],\n",
       "       [ 21.42 -0.j, -13.65 +0.j,   5.661-0.j,  -1.202+0.j]])"
      ]
     },
     "execution_count": 57,
     "metadata": {},
     "output_type": "execute_result"
    }
   ],
   "source": [
    "~R|S"
   ]
  },
  {
   "cell_type": "code",
   "execution_count": 60,
   "metadata": {},
   "outputs": [
    {
     "data": {
      "text/plain": [
       "array([[-66.677-0.j,  42.387-0.j, -27.323-0.j,  14.159+0.j],\n",
       "       [ 36.989+0.j, -18.528+0.j,  14.315+0.j, -12.719-0.j],\n",
       "       [  9.268+0.j,  -9.209+0.j,   8.347+0.j,   0.762-0.j],\n",
       "       [ 21.42 +0.j, -13.65 +0.j,   5.661+0.j,  -1.202-0.j]])"
      ]
     },
     "execution_count": 60,
     "metadata": {},
     "output_type": "execute_result"
    }
   ],
   "source": [
    "(R**S)^(S**R)"
   ]
  },
  {
   "cell_type": "markdown",
   "metadata": {},
   "source": [
    "Finally, we can apply a function to each element of our collection:"
   ]
  },
  {
   "cell_type": "code",
   "execution_count": 78,
   "metadata": {},
   "outputs": [
    {
     "data": {
      "text/plain": [
       "array([[1.+0.j, 0.-0.j],\n",
       "       [0.+0.j, 1.+0.j]])"
      ]
     },
     "execution_count": 78,
     "metadata": {},
     "output_type": "execute_result"
    }
   ],
   "source": [
    "R_ = R % (lambda O: np.eye(2)/8+ O/2)\n",
    "sum(R_)"
   ]
  }
 ],
 "metadata": {
  "interpreter": {
   "hash": "cbb79368fd0a6163e8e4ec12cb943663a1a9bd9955b208dd67f1d4197a8f66bb"
  },
  "kernelspec": {
   "display_name": "Python 3.7.4 ('base')",
   "language": "python",
   "name": "python3"
  },
  "language_info": {
   "codemirror_mode": {
    "name": "ipython",
    "version": 3
   },
   "file_extension": ".py",
   "mimetype": "text/x-python",
   "name": "python",
   "nbconvert_exporter": "python",
   "pygments_lexer": "ipython3",
   "version": "3.7.4"
  },
  "orig_nbformat": 4
 },
 "nbformat": 4,
 "nbformat_minor": 2
}
