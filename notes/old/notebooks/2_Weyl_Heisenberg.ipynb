{
 "cells": [
  {
   "cell_type": "code",
   "execution_count": 1,
   "metadata": {},
   "outputs": [],
   "source": [
    "from qbuki import *"
   ]
  },
  {
   "cell_type": "markdown",
   "metadata": {},
   "source": [
    "# qbuki.weyl_heisenberg\n",
    "\n",
    "`qbuki.weyl_heisenberg` provides tools for dealing with the (discrete) Weyl-Heisenberg group.\n",
    "\n",
    "Let $\\omega = e^{2 \\pi i/d}$. We define the clock and shift operators to be\n",
    "\n",
    "\\begin{align}\n",
    "Z|q\\rangle = \\omega^q |q\\rangle && X|q\\rangle = |q + 1\\rangle\t\n",
    "\\end{align}"
   ]
  },
  {
   "cell_type": "code",
   "execution_count": 2,
   "metadata": {},
   "outputs": [
    {
     "data": {
      "text/plain": [
       "array([[ 1. +0.j   ,  0. +0.j   ,  0. +0.j   ],\n",
       "       [ 0. +0.j   , -0.5+0.866j,  0. +0.j   ],\n",
       "       [ 0. +0.j   ,  0. +0.j   , -0.5-0.866j]])"
      ]
     },
     "execution_count": 2,
     "metadata": {},
     "output_type": "execute_result"
    }
   ],
   "source": [
    "clock(3)"
   ]
  },
  {
   "cell_type": "code",
   "execution_count": 3,
   "metadata": {},
   "outputs": [
    {
     "data": {
      "text/plain": [
       "array([[0., 0., 1.],\n",
       "       [1., 0., 0.],\n",
       "       [0., 1., 0.]])"
      ]
     },
     "execution_count": 3,
     "metadata": {},
     "output_type": "execute_result"
    }
   ],
   "source": [
    "shift(3)"
   ]
  },
  {
   "cell_type": "markdown",
   "metadata": {},
   "source": [
    "Moreover, we can define position and momentum operators such that\n",
    "\n",
    "\\begin{align}\n",
    "Z = e^{i(\\frac{2\\pi}{d})Q} && X = e^{-i(\\frac{2\\pi}{d})P}\t\n",
    "\\end{align}"
   ]
  },
  {
   "cell_type": "code",
   "execution_count": 4,
   "metadata": {},
   "outputs": [
    {
     "data": {
      "text/plain": [
       "array([[ 1. +0.j   ,  0. +0.j   ,  0. +0.j   ],\n",
       "       [ 0. +0.j   , -0.5+0.866j,  0. +0.j   ],\n",
       "       [ 0. +0.j   ,  0. +0.j   , -0.5-0.866j]])"
      ]
     },
     "execution_count": 4,
     "metadata": {},
     "output_type": "execute_result"
    }
   ],
   "source": [
    "sc.linalg.expm(1j*(2*np.pi/3)*discrete_Q(3))"
   ]
  },
  {
   "cell_type": "code",
   "execution_count": 5,
   "metadata": {},
   "outputs": [
    {
     "data": {
      "text/plain": [
       "array([[-0.-0.j,  0.-0.j,  1.+0.j],\n",
       "       [ 1.-0.j, -0.-0.j,  0.-0.j],\n",
       "       [ 0.-0.j,  1.-0.j, -0.-0.j]])"
      ]
     },
     "execution_count": 5,
     "metadata": {},
     "output_type": "execute_result"
    }
   ],
   "source": [
    "sc.linalg.expm(-1j*(2*np.pi/3)*discrete_P(3))"
   ]
  },
  {
   "cell_type": "markdown",
   "metadata": {},
   "source": [
    "Finally, we can define discrete displacement operators:\n",
    "\n",
    "$$ D(q, p) = \\Big(- e^{i\\pi/d} \\Big)^{qp}X^q Z^p $$\n",
    "\n",
    "such that\n",
    "\n",
    "$$ D(q_1, p_1)D(q_2, p_2) = \\tau^{q_2p_1 - p_2q_1}D(q_1+q_2, p_1+p_2) $$\n",
    "\n",
    "where $\\tau = -e^{\\pi i / d}$, and $D(q, p)^{\\dagger} = D(-q, -p)$."
   ]
  },
  {
   "cell_type": "code",
   "execution_count": 6,
   "metadata": {},
   "outputs": [
    {
     "data": {
      "text/plain": [
       "array([[-0.5-0.866j,  0. +0.j   ,  0. +0.j   ],\n",
       "       [ 0. +0.j   , -0.5+0.866j,  0. +0.j   ],\n",
       "       [ 0. +0.j   ,  0. +0.j   ,  1. -0.j   ]])"
      ]
     },
     "execution_count": 6,
     "metadata": {},
     "output_type": "execute_result"
    }
   ],
   "source": [
    "q1, p1 = 1, 1\n",
    "q2, p2 = 2, 1\n",
    "displace(3, q1, p1) @ displace(3, q2, p2)"
   ]
  },
  {
   "cell_type": "code",
   "execution_count": 7,
   "metadata": {},
   "outputs": [
    {
     "data": {
      "text/plain": [
       "array([[-0.5-0.866j,  0. -0.j   ,  0. -0.j   ],\n",
       "       [ 0. -0.j   , -0.5+0.866j,  0. -0.j   ],\n",
       "       [ 0. -0.j   ,  0. -0.j   ,  1. -0.j   ]])"
      ]
     },
     "execution_count": 7,
     "metadata": {},
     "output_type": "execute_result"
    }
   ],
   "source": [
    "tau = - np.exp(np.pi*1j/3)\n",
    "tau**(q2*p1 - p2*q1)*displace(3, (q1+q2)%3, (p1+p2)%3)"
   ]
  },
  {
   "cell_type": "code",
   "execution_count": 8,
   "metadata": {},
   "outputs": [
    {
     "data": {
      "text/plain": [
       "True"
      ]
     },
     "execution_count": 8,
     "metadata": {},
     "output_type": "execute_result"
    }
   ],
   "source": [
    "np.allclose(displace(3, q1, p1).conj().T, displace(3, -q1, -p1))"
   ]
  },
  {
   "cell_type": "markdown",
   "metadata": {},
   "source": [
    "We can get all the displacement operators in one go:"
   ]
  },
  {
   "cell_type": "code",
   "execution_count": 9,
   "metadata": {},
   "outputs": [
    {
     "data": {
      "text/plain": [
       "array([[[ 1.+0.j,  0.+0.j],\n",
       "        [ 0.+0.j,  1.+0.j]],\n",
       "\n",
       "       [[ 1.+0.j,  0.+0.j],\n",
       "        [ 0.+0.j, -1.+0.j]],\n",
       "\n",
       "       [[ 0.+0.j,  1.+0.j],\n",
       "        [ 1.+0.j,  0.+0.j]],\n",
       "\n",
       "       [[ 0.+0.j,  0.+1.j],\n",
       "        [-0.-1.j,  0.+0.j]]])"
      ]
     },
     "execution_count": 9,
     "metadata": {},
     "output_type": "execute_result"
    }
   ],
   "source": [
    "displacement_operators(2)"
   ]
  },
  {
   "cell_type": "markdown",
   "metadata": {},
   "source": [
    "We can generate a Weyl-Heisenberg covariant tight frame from a fiducial state:"
   ]
  },
  {
   "cell_type": "code",
   "execution_count": 12,
   "metadata": {},
   "outputs": [
    {
     "data": {
      "text/plain": [
       "array([[1.+0.j, 0.-0.j, 0.+0.j],\n",
       "       [0.+0.j, 1.+0.j, 0.-0.j],\n",
       "       [0.-0.j, 0.+0.j, 1.+0.j]])"
      ]
     },
     "execution_count": 12,
     "metadata": {},
     "output_type": "execute_result"
    }
   ],
   "source": [
    "R = weyl_heisenberg_frame(rand_ket(3))\n",
    "R @ R.conj().T"
   ]
  },
  {
   "cell_type": "markdown",
   "metadata": {},
   "source": [
    "And a Weyl-Heisenberg covariant POVM, where the fiducial may be a density matrix:"
   ]
  },
  {
   "cell_type": "code",
   "execution_count": 13,
   "metadata": {},
   "outputs": [
    {
     "data": {
      "text/plain": [
       "array([[ 1.+0.j, -0.+0.j, -0.-0.j],\n",
       "       [-0.-0.j,  1.+0.j, -0.+0.j],\n",
       "       [-0.+0.j, -0.-0.j,  1.+0.j]])"
      ]
     },
     "execution_count": 13,
     "metadata": {},
     "output_type": "execute_result"
    }
   ],
   "source": [
    "E = weyl_heisenberg_povm(rand_dm(3))\n",
    "sum(E)"
   ]
  }
 ],
 "metadata": {
  "interpreter": {
   "hash": "cbb79368fd0a6163e8e4ec12cb943663a1a9bd9955b208dd67f1d4197a8f66bb"
  },
  "kernelspec": {
   "display_name": "Python 3.7.4 ('base')",
   "language": "python",
   "name": "python3"
  },
  "language_info": {
   "codemirror_mode": {
    "name": "ipython",
    "version": 3
   },
   "file_extension": ".py",
   "mimetype": "text/x-python",
   "name": "python",
   "nbconvert_exporter": "python",
   "pygments_lexer": "ipython3",
   "version": "3.7.4"
  },
  "orig_nbformat": 4
 },
 "nbformat": 4,
 "nbformat_minor": 2
}
