{
 "cells": [
  {
   "cell_type": "code",
   "execution_count": 1,
   "metadata": {},
   "outputs": [],
   "source": [
    "from qbuki import *"
   ]
  },
  {
   "cell_type": "markdown",
   "metadata": {},
   "source": [
    "# qbuki.sics\n",
    "\n",
    "`qbuki.sics` provides tools for dealing with SIC-POVM's. \n",
    "\n",
    "`qbuki` automatically provides access to numerical SIC fiducial vectors up to $d=151$. You can load them via:"
   ]
  },
  {
   "cell_type": "code",
   "execution_count": 2,
   "metadata": {},
   "outputs": [
    {
     "data": {
      "text/plain": [
       "array([[ 0.243-0.767j],\n",
       "       [-0.352-0.389j],\n",
       "       [-0.191-0.205j]])"
      ]
     },
     "execution_count": 2,
     "metadata": {},
     "output_type": "execute_result"
    }
   ],
   "source": [
    "sic_fiducial(3)"
   ]
  },
  {
   "cell_type": "markdown",
   "metadata": {},
   "source": [
    "You can obtain a finite tight frame corresponding to a set of $d^2$ complex equiangular lines by displacing a SIC fiducial vector with the $d^2$ Weyl-Heisenberg operators:"
   ]
  },
  {
   "cell_type": "code",
   "execution_count": 3,
   "metadata": {},
   "outputs": [
    {
     "data": {
      "text/plain": [
       "array([[1.+0.j, 0.-0.j, 0.+0.j],\n",
       "       [0.+0.j, 1.+0.j, 0.-0.j],\n",
       "       [0.-0.j, 0.+0.j, 1.+0.j]])"
      ]
     },
     "execution_count": 3,
     "metadata": {},
     "output_type": "execute_result"
    }
   ],
   "source": [
    "R = sic_frame(3)\n",
    "R @ R.conj().T"
   ]
  },
  {
   "cell_type": "code",
   "execution_count": 4,
   "metadata": {},
   "outputs": [
    {
     "data": {
      "text/plain": [
       "array([[0.111, 0.028, 0.028, 0.028, 0.028, 0.028, 0.028, 0.028, 0.028],\n",
       "       [0.028, 0.111, 0.028, 0.028, 0.028, 0.028, 0.028, 0.028, 0.028],\n",
       "       [0.028, 0.028, 0.111, 0.028, 0.028, 0.028, 0.028, 0.028, 0.028],\n",
       "       [0.028, 0.028, 0.028, 0.111, 0.028, 0.028, 0.028, 0.028, 0.028],\n",
       "       [0.028, 0.028, 0.028, 0.028, 0.111, 0.028, 0.028, 0.028, 0.028],\n",
       "       [0.028, 0.028, 0.028, 0.028, 0.028, 0.111, 0.028, 0.028, 0.028],\n",
       "       [0.028, 0.028, 0.028, 0.028, 0.028, 0.028, 0.111, 0.028, 0.028],\n",
       "       [0.028, 0.028, 0.028, 0.028, 0.028, 0.028, 0.028, 0.111, 0.028],\n",
       "       [0.028, 0.028, 0.028, 0.028, 0.028, 0.028, 0.028, 0.028, 0.111]])"
      ]
     },
     "execution_count": 4,
     "metadata": {},
     "output_type": "execute_result"
    }
   ],
   "source": [
    "abs(R.conj().T @ R)**2"
   ]
  },
  {
   "cell_type": "markdown",
   "metadata": {},
   "source": [
    "You can obtain a SIC-POVM directly:"
   ]
  },
  {
   "cell_type": "code",
   "execution_count": 5,
   "metadata": {},
   "outputs": [
    {
     "data": {
      "text/plain": [
       "array([[1.+0.j, 0.-0.j, 0.+0.j],\n",
       "       [0.+0.j, 1.+0.j, 0.-0.j],\n",
       "       [0.-0.j, 0.+0.j, 1.+0.j]])"
      ]
     },
     "execution_count": 5,
     "metadata": {},
     "output_type": "execute_result"
    }
   ],
   "source": [
    "E = sic_povm(3)\n",
    "sum(E)"
   ]
  },
  {
   "cell_type": "markdown",
   "metadata": {},
   "source": [
    "There is the exceptional case of the Hoggar SIC in $d=3$ which is covariant under the tensor product of three copies of the $d=2$ Weyl-Heisenberg group. You can obtain its fiducial:"
   ]
  },
  {
   "cell_type": "code",
   "execution_count": 6,
   "metadata": {},
   "outputs": [
    {
     "data": {
      "text/plain": [
       "array([[-0.289+0.577j],\n",
       "       [ 0.289+0.j   ],\n",
       "       [ 0.289+0.j   ],\n",
       "       [ 0.289+0.j   ],\n",
       "       [ 0.289+0.j   ],\n",
       "       [ 0.289+0.j   ],\n",
       "       [ 0.289+0.j   ],\n",
       "       [ 0.289+0.j   ]])"
      ]
     },
     "execution_count": 6,
     "metadata": {},
     "output_type": "execute_result"
    }
   ],
   "source": [
    "hoggar_sic_fiducial()"
   ]
  },
  {
   "cell_type": "markdown",
   "metadata": {},
   "source": [
    "And the Hoggar SIC-POVM itself:"
   ]
  },
  {
   "cell_type": "code",
   "execution_count": 7,
   "metadata": {},
   "outputs": [
    {
     "name": "stdout",
     "output_type": "stream",
     "text": [
      "[[ 1.+0.j  0.+0.j  0.-0.j -0.-0.j  0.+0.j -0.-0.j -0.+0.j -0.+0.j]\n",
      " [ 0.+0.j  1.+0.j -0.+0.j  0.-0.j -0.+0.j  0.+0.j -0.-0.j -0.+0.j]\n",
      " [ 0.+0.j -0.-0.j  1.+0.j  0.+0.j -0.-0.j -0.+0.j  0.+0.j -0.-0.j]\n",
      " [-0.+0.j  0.+0.j  0.+0.j  1.+0.j -0.-0.j -0.+0.j -0.+0.j  0.+0.j]\n",
      " [ 0.-0.j -0.-0.j -0.+0.j -0.+0.j  1.+0.j  0.+0.j  0.-0.j -0.-0.j]\n",
      " [-0.+0.j  0.-0.j -0.+0.j -0.-0.j  0.+0.j  1.+0.j -0.+0.j  0.+0.j]\n",
      " [-0.-0.j -0.+0.j  0.-0.j -0.-0.j  0.+0.j -0.-0.j  1.+0.j  0.+0.j]\n",
      " [-0.+0.j -0.-0.j -0.+0.j  0.-0.j -0.+0.j  0.+0.j  0.+0.j  1.+0.j]]\n"
     ]
    }
   ],
   "source": [
    "E = hoggar_sic_povm()\n",
    "print(sum(E))"
   ]
  },
  {
   "cell_type": "code",
   "execution_count": 8,
   "metadata": {},
   "outputs": [
    {
     "name": "stdout",
     "output_type": "stream",
     "text": [
      "[[0.016+0.j 0.002+0.j 0.002+0.j ... 0.002+0.j 0.002+0.j 0.002+0.j]\n",
      " [0.002+0.j 0.016+0.j 0.002+0.j ... 0.002+0.j 0.002+0.j 0.002+0.j]\n",
      " [0.002+0.j 0.002+0.j 0.016+0.j ... 0.002+0.j 0.002+0.j 0.002+0.j]\n",
      " ...\n",
      " [0.002+0.j 0.002-0.j 0.002-0.j ... 0.016+0.j 0.002+0.j 0.002-0.j]\n",
      " [0.002+0.j 0.002+0.j 0.002-0.j ... 0.002+0.j 0.016+0.j 0.002+0.j]\n",
      " [0.002+0.j 0.002-0.j 0.002+0.j ... 0.002+0.j 0.002-0.j 0.016+0.j]]\n"
     ]
    }
   ],
   "source": [
    "print(np.array([[(a@b).trace() for b in E] for a in E]))"
   ]
  }
 ],
 "metadata": {
  "interpreter": {
   "hash": "cbb79368fd0a6163e8e4ec12cb943663a1a9bd9955b208dd67f1d4197a8f66bb"
  },
  "kernelspec": {
   "display_name": "Python 3.7.4 ('base')",
   "language": "python",
   "name": "python3"
  },
  "language_info": {
   "codemirror_mode": {
    "name": "ipython",
    "version": 3
   },
   "file_extension": ".py",
   "mimetype": "text/x-python",
   "name": "python",
   "nbconvert_exporter": "python",
   "pygments_lexer": "ipython3",
   "version": "3.7.4"
  },
  "orig_nbformat": 4
 },
 "nbformat": 4,
 "nbformat_minor": 2
}
