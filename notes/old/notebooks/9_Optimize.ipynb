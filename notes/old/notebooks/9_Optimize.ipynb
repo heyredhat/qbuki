{
 "cells": [
  {
   "cell_type": "code",
   "execution_count": 1,
   "metadata": {},
   "outputs": [],
   "source": [
    "from qbuki import *"
   ]
  },
  {
   "cell_type": "markdown",
   "metadata": {},
   "source": [
    "# qbuki.optimize\n",
    "\n",
    "`qbuki.optimize` provides tools for searching out POVM's (and more generally, QBist reference devices) that extremize some useful measure. At the moment, it focuses primarily on the so-called quantumness: $|| I - \\Phi||$.\n",
    "\n",
    "The central actor is:\n",
    "\n",
    "```python\n",
    "min_quantumness(d, n=None, field=\"complex\",\n",
    "                           norm=\"p2\",\\\n",
    "                           rank1=True,\\\n",
    "                           parallel=True,\\\n",
    "                           method=\"SLSQP\",\\\n",
    "                           tol=1e-26,\\\n",
    "                           options={\"disp\": False,\\\n",
    "                                    \"maxiter\": 10000},\\\n",
    "                           max_iter=100,\\\n",
    "                           return_params=False)\n",
    "```\n",
    "One provides the Hilbert space dimension $d$; the number of POVM elements $n$ (defaulting to $d^2$ in the complex case and $d(d+1)/2$ in the real case); the number field (`real` or `complex`); the norm by which to measure the distance between $\\Phi$ and the identity, which defaults to the Schatten 2-norm, but one can specify another p-norm, e.g. \"p1\" or indeed, pass in an arbitrary norm function; whether to restrict the search to rank-1 elements, which leads to substantial savings in efficiency; whether to take post-measurement states to be proportional to POVM elements or whether to search over them separately; the method used by the optimizer (`scipy.optimize.minimize`) and options to be passed to the optimizer; the number of iterations to attempt running the optimizer; and finally, whether to return the underlying parameterization of the reference device instead of POVM elements (and/or post-measurement states): for a POVM, in the case of rank-1, this would be a matrix of frame vectors, and in the higher rank case, this would be a matrix of Kraus operators (and the analogous for the post-measurement states.)"
   ]
  },
  {
   "cell_type": "markdown",
   "metadata": {},
   "source": [
    "For example, we can find the SIC-POVM in real $d=2$:"
   ]
  },
  {
   "cell_type": "code",
   "execution_count": 6,
   "metadata": {},
   "outputs": [
    {
     "data": {
      "text/plain": [
       "array([[0.444, 0.111, 0.111],\n",
       "       [0.111, 0.444, 0.111],\n",
       "       [0.111, 0.111, 0.444]])"
      ]
     },
     "execution_count": 6,
     "metadata": {},
     "output_type": "execute_result"
    }
   ],
   "source": [
    "E = Operators(min_quantumness(2, n=3, field=\"real\", norm=\"p2\", rank1=True, parallel=True))\n",
    "E^E"
   ]
  },
  {
   "cell_type": "code",
   "execution_count": 10,
   "metadata": {},
   "outputs": [
    {
     "data": {
      "text/plain": [
       "array([[-0.702,  0.01 ,  0.712],\n",
       "       [-0.417, -0.816, -0.4  ]])"
      ]
     },
     "execution_count": 10,
     "metadata": {},
     "output_type": "execute_result"
    }
   ],
   "source": [
    "R = min_quantumness(2, n=3, field=\"real\", norm=\"p2\", rank1=True, parallel=True, return_params=True); R"
   ]
  },
  {
   "cell_type": "code",
   "execution_count": 11,
   "metadata": {},
   "outputs": [
    {
     "data": {
      "text/plain": [
       "array([[1., 0.],\n",
       "       [0., 1.]])"
      ]
     },
     "execution_count": 11,
     "metadata": {},
     "output_type": "execute_result"
    }
   ],
   "source": [
    "R @ R.T"
   ]
  },
  {
   "cell_type": "markdown",
   "metadata": {},
   "source": [
    "In complex $d=2$:"
   ]
  },
  {
   "cell_type": "code",
   "execution_count": 12,
   "metadata": {},
   "outputs": [
    {
     "data": {
      "text/plain": [
       "array([[0.25 +0.j, 0.083-0.j, 0.083+0.j, 0.083-0.j],\n",
       "       [0.083+0.j, 0.25 +0.j, 0.083-0.j, 0.083+0.j],\n",
       "       [0.083-0.j, 0.083+0.j, 0.25 +0.j, 0.083+0.j],\n",
       "       [0.083+0.j, 0.083-0.j, 0.083-0.j, 0.25 +0.j]])"
      ]
     },
     "execution_count": 12,
     "metadata": {},
     "output_type": "execute_result"
    }
   ],
   "source": [
    "E = Operators(min_quantumness(2, n=4, field=\"complex\", norm=\"p2\", rank1=True, parallel=True))\n",
    "E^E"
   ]
  },
  {
   "cell_type": "markdown",
   "metadata": {},
   "source": [
    "We can try a higher rank search:"
   ]
  },
  {
   "cell_type": "code",
   "execution_count": 13,
   "metadata": {},
   "outputs": [
    {
     "data": {
      "text/plain": [
       "array([[0.25 +0.j, 0.083-0.j, 0.083-0.j, 0.083-0.j],\n",
       "       [0.083+0.j, 0.25 +0.j, 0.083-0.j, 0.083-0.j],\n",
       "       [0.083+0.j, 0.083+0.j, 0.25 +0.j, 0.083+0.j],\n",
       "       [0.083+0.j, 0.083+0.j, 0.083-0.j, 0.25 +0.j]])"
      ]
     },
     "execution_count": 13,
     "metadata": {},
     "output_type": "execute_result"
    }
   ],
   "source": [
    "E = Operators(min_quantumness(2, n=4, field=\"complex\", norm=\"p2\", rank1=False, parallel=True))\n",
    "E^E"
   ]
  },
  {
   "cell_type": "markdown",
   "metadata": {},
   "source": [
    "And search over both POVM elements and post-measurement states"
   ]
  },
  {
   "cell_type": "code",
   "execution_count": 68,
   "metadata": {},
   "outputs": [],
   "source": [
    "E, S = min_quantumness(2, field=\"complex\", norm=\"p1\", rank1=True, parallel=False, method=\"trust-constr\")\n",
    "E, S = Operators(E), Operators(S)"
   ]
  },
  {
   "cell_type": "code",
   "execution_count": 69,
   "metadata": {},
   "outputs": [
    {
     "data": {
      "text/plain": [
       "6.001083834026661"
      ]
     },
     "execution_count": 69,
     "metadata": {},
     "output_type": "execute_result"
    }
   ],
   "source": [
    "quantumness(E, S, p=1)"
   ]
  },
  {
   "cell_type": "code",
   "execution_count": 70,
   "metadata": {},
   "outputs": [],
   "source": [
    "H = Operators(min_quantumness(2, field=\"complex\", norm=\"p1\", rank1=True, parallel=True, method=\"trust-constr\"))"
   ]
  },
  {
   "cell_type": "code",
   "execution_count": 71,
   "metadata": {},
   "outputs": [
    {
     "data": {
      "text/plain": [
       "6.00000524922556"
      ]
     },
     "execution_count": 71,
     "metadata": {},
     "output_type": "execute_result"
    }
   ],
   "source": [
    "quantumness(H,p=1)"
   ]
  }
 ],
 "metadata": {
  "interpreter": {
   "hash": "cbb79368fd0a6163e8e4ec12cb943663a1a9bd9955b208dd67f1d4197a8f66bb"
  },
  "kernelspec": {
   "display_name": "Python 3.7.4 ('base')",
   "language": "python",
   "name": "python3"
  },
  "language_info": {
   "codemirror_mode": {
    "name": "ipython",
    "version": 3
   },
   "file_extension": ".py",
   "mimetype": "text/x-python",
   "name": "python",
   "nbconvert_exporter": "python",
   "pygments_lexer": "ipython3",
   "version": "3.7.4"
  },
  "orig_nbformat": 4
 },
 "nbformat": 4,
 "nbformat_minor": 2
}
