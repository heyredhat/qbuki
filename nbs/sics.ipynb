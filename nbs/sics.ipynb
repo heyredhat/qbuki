{
 "cells": [
  {
   "cell_type": "code",
   "execution_count": null,
   "id": "bd56d29a",
   "metadata": {},
   "outputs": [
    {
     "name": "stdout",
     "output_type": "stream",
     "text": [
      "The autoreload extension is already loaded. To reload it, use:\n",
      "  %reload_ext autoreload\n"
     ]
    }
   ],
   "source": [
    "#| hide\n",
    "%load_ext autoreload\n",
    "%autoreload 2"
   ]
  },
  {
   "cell_type": "markdown",
   "id": "e4cb9d4f",
   "metadata": {},
   "source": [
    "# SICs\n",
    "\n",
    "> description."
   ]
  },
  {
   "cell_type": "code",
   "execution_count": null,
   "id": "fb6d4e64",
   "metadata": {},
   "outputs": [],
   "source": [
    "#| default_exp sics"
   ]
  },
  {
   "cell_type": "code",
   "execution_count": null,
   "id": "060a0878",
   "metadata": {},
   "outputs": [],
   "source": [
    "#| hide\n",
    "from nbdev.showdoc import *\n",
    "from fastcore.test import *"
   ]
  },
  {
   "cell_type": "code",
   "execution_count": null,
   "id": "9790cf80",
   "metadata": {},
   "outputs": [],
   "source": [
    "#| export\n",
    "import numpy as np\n",
    "import pkg_resources\n",
    "from itertools import product\n",
    "\n",
    "from qbuki.weyl_heisenberg import *\n",
    "from qbuki.povm_utils import *\n",
    "from qbuki.utils import *\n",
    "\n",
    "def sic_fiducial(d):\n",
    "    r\"\"\"\n",
    "    Loads a Weyl-Heisenberg covariant SIC-POVM fiducial state of dimension $d$ from the repository provided here: http://www.physics.umb.edu/Research/QBism/solutions.html.\n",
    "    \"\"\"\n",
    "    f = pkg_resources.resource_stream(__name__, \"sic_povms/d%d.txt\" % d)\n",
    "    fiducial = []\n",
    "    for line in f:\n",
    "        if line.strip() != \"\":\n",
    "            re, im = [float(v) for v in line.split()]\n",
    "            fiducial.append(re + 1j*im)\n",
    "    return normalize(np.array(fiducial).reshape(d, 1))\n",
    "\n",
    "def sic_frame(d):\n",
    "    r\"\"\"\n",
    "    Returns the $d^2$ states constructed by applying the Weyl-Heisenberg displacement operators to the SIC-POVM fiducial state of dimension $d$.\n",
    "    \"\"\"\n",
    "    return weyl_heisenberg_frame(sic_fiducial(d))\n",
    "\n",
    "def sic_povm(d):\n",
    "    r\"\"\"\n",
    "    Returns a SIC-POVM of dimension $d$.\n",
    "    \"\"\"\n",
    "    return frame_povm(weyl_heisenberg_frame(sic_fiducial(d)))\n",
    "\n",
    "def hoggar_sic_fiducial():\n",
    "    r\"\"\"\n",
    "    Returns a fiducial state for the exceptional SIC in dimension $8$, the Hoggar SIC.\n",
    "\n",
    "    Unnormalized: $\\begin{pmatrix} -1 + 2i \\\\ 1 \\\\ 1 \\\\ 1 \\\\ 1 \\\\ 1 \\\\ 1 \\\\ 1 \\end{pmatrix}$.\n",
    "    \"\"\"\n",
    "    return normalize(np.array([-1 + 2j, 1, 1, 1, 1, 1, 1, 1])).reshape(8, 1)\n",
    "\n",
    "def hoggar_sic_povm():\n",
    "    r\"\"\"\n",
    "    Constructs the Hoggar POVM, which is covariant under the tensor product of three copies of the $d=2$ Weyl-Heisenberg group. In other words, we apply the 64 displacement operators:\n",
    "\n",
    "    $$ \\hat{D}_{a, b, c, d, e, f} = X^{a}Z^{b} \\otimes X^{c}Z^{d} \\otimes X^{e}Z^{f} $$\n",
    "\n",
    "    to the Hoggar fiducial state, form the corresponding projectors, and rescale by $\\frac{1}{8}$.\n",
    "    \"\"\"\n",
    "    d = 8\n",
    "    Z, X = clock(2), shift(2)\n",
    "    indices = list(product([0,1], repeat=6))\n",
    "    D = np.array([kron(np.linalg.matrix_power(X, I[0]) @ np.linalg.matrix_power(Z, I[1]),\\\n",
    "                       np.linalg.matrix_power(X, I[2]) @ np.linalg.matrix_power(Z, I[3]),\\\n",
    "                       np.linalg.matrix_power(X, I[4]) @ np.linalg.matrix_power(Z, I[5])) for I in indices])\n",
    "    return frame_povm((D @ hoggar_sic_fiducial()).T.reshape(d, d**2)/np.sqrt(d))"
   ]
  },
  {
   "cell_type": "code",
   "execution_count": null,
   "id": "666e2a37",
   "metadata": {},
   "outputs": [],
   "source": [
    "#| hide\n",
    "import nbdev; nbdev.nbdev_export()"
   ]
  }
 ],
 "metadata": {
  "kernelspec": {
   "display_name": "python3",
   "language": "python",
   "name": "python3"
  }
 },
 "nbformat": 4,
 "nbformat_minor": 5
}
