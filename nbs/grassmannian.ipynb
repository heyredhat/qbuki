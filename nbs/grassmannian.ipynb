{
 "cells": [
  {
   "cell_type": "code",
   "execution_count": null,
   "id": "bd56d29a",
   "metadata": {},
   "outputs": [
    {
     "name": "stdout",
     "output_type": "stream",
     "text": [
      "The autoreload extension is already loaded. To reload it, use:\n",
      "  %reload_ext autoreload\n"
     ]
    }
   ],
   "source": [
    "#| hide\n",
    "%load_ext autoreload\n",
    "%autoreload 2"
   ]
  },
  {
   "cell_type": "markdown",
   "id": "e4cb9d4f",
   "metadata": {},
   "source": [
    "# Grassmann\n",
    "\n",
    "> description."
   ]
  },
  {
   "cell_type": "code",
   "execution_count": null,
   "id": "fb6d4e64",
   "metadata": {},
   "outputs": [],
   "source": [
    "#| default_exp grassmannian"
   ]
  },
  {
   "cell_type": "code",
   "execution_count": null,
   "id": "060a0878",
   "metadata": {},
   "outputs": [],
   "source": [
    "#| hide\n",
    "from nbdev.showdoc import *\n",
    "from fastcore.test import *"
   ]
  },
  {
   "cell_type": "code",
   "execution_count": null,
   "id": "9790cf80",
   "metadata": {},
   "outputs": [],
   "source": [
    "#| export\n",
    "\n",
    "import numpy as np\n",
    "import scipy as sc\n",
    "from scipy.stats import unitary_group\n",
    "from itertools import combinations, permutations\n",
    "\n",
    "from qbuki.utils import *\n",
    "\n",
    "def random_grassmannian(k, n):\n",
    "    return unitary_group.rvs(n)[:k]\n",
    "\n",
    "def standard_grassmannian_form(G):\n",
    "    return np.linalg.inv(G[:,:2]) @ G\n",
    "\n",
    "def plucker_coordinate(I, G):\n",
    "    return np.linalg.det(G[:, I])\n",
    "\n",
    "def plucker_indices(k, n):\n",
    "    return list(combinations(list(range(n)), k))\n",
    "\n",
    "def plucker_coordinates(G):\n",
    "    return np.array([plucker_coordinate(i, G) for i in plucker_indices(*G.shape)])\n",
    "\n",
    "###\n",
    "\n",
    "def __antisymmetrize__(a, b):\n",
    "    return np.kron(a, b) - np.kron(b, a)\n",
    "\n",
    "def antisymmetrize(*V):\n",
    "    return reduce(__antisymmetrize__, V)\n",
    "\n",
    "###\n",
    "\n",
    "def plucker_basis(k, n):\n",
    "    return np.array([antisymmetrize(*[basis(n, i) for i in I]) for I in plucker_indices(k, n)])\n",
    "\n",
    "def plucker_inner_product(v, w):\n",
    "    return np.linalg.det(v.conj() @ w.T)\n",
    "\n",
    "def kplane_inner_product(v, w):\n",
    "    return abs(plucker_inner_product(v,w))/\\\n",
    "                (np.sqrt(plucker_inner_product(v,v))*\\\n",
    "                 np.sqrt(plucker_inner_product(w,w)))"
   ]
  },
  {
   "cell_type": "code",
   "execution_count": null,
   "id": "666e2a37",
   "metadata": {},
   "outputs": [],
   "source": [
    "#| hide\n",
    "import nbdev; nbdev.nbdev_export()"
   ]
  }
 ],
 "metadata": {
  "kernelspec": {
   "display_name": "python3",
   "language": "python",
   "name": "python3"
  }
 },
 "nbformat": 4,
 "nbformat_minor": 5
}
