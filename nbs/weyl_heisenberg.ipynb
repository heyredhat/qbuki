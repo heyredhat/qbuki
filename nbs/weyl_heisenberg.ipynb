{
 "cells": [
  {
   "cell_type": "code",
   "execution_count": 1,
   "id": "bd56d29a",
   "metadata": {},
   "outputs": [],
   "source": [
    "#| hide\n",
    "%load_ext autoreload\n",
    "%autoreload 2"
   ]
  },
  {
   "cell_type": "markdown",
   "id": "e4cb9d4f",
   "metadata": {},
   "source": [
    "# Pauli\n",
    "\n",
    "> Pauli matrices, Weyl-Heisenberg displacement operators, etc."
   ]
  },
  {
   "cell_type": "code",
   "execution_count": 2,
   "id": "fb6d4e64",
   "metadata": {},
   "outputs": [],
   "source": [
    "#| default_exp weyl_heisenberg"
   ]
  },
  {
   "cell_type": "code",
   "execution_count": 3,
   "id": "060a0878",
   "metadata": {},
   "outputs": [],
   "source": [
    "#| hide\n",
    "from nbdev.showdoc import *\n",
    "from fastcore.test import *"
   ]
  },
  {
   "cell_type": "code",
   "execution_count": 35,
   "id": "9790cf80",
   "metadata": {},
   "outputs": [],
   "source": [
    "#| export\n",
    "import numpy as np\n",
    "\n",
    "from qbuki.utils import *\n",
    "\n",
    "def clock(d):\n",
    "    r\"\"\"\n",
    "    The clock operator $\\hat{Z}$ for dimension $d$.\n",
    "    \"\"\"\n",
    "    w = np.exp(2*np.pi*1j/d)\n",
    "    return np.diag([w**i for i in range(d)])\n",
    "\n",
    "def shift(d):\n",
    "    r\"\"\"\n",
    "    The shift operator $\\hat{X}$ for dimension $d$.\n",
    "    \"\"\"\n",
    "    return sum([np.outer(basis(d, i+1), basis(d, i))\\\n",
    "                    if i != d-1 else np.outer(basis(d, 0),basis(d, i))\\\n",
    "                        for i in range(d) for j in range(d)])/d\n",
    "\n",
    "def discrete_Q(d):\n",
    "    return d*sc.linalg.logm(clock(d))/(2*np.pi*1j)\n",
    "\n",
    "def discrete_P(d):\n",
    "    fft = fft_matrix(d)\n",
    "    return fft @ discrete_Q(d) @ fft.conj().T \n",
    "\n",
    "def displace(d, q, p):\n",
    "    Z, X = clock(d), shift(d)\n",
    "    return (-np.exp(1j*np.pi/d))**(q*p)*np.linalg.matrix_power(X,q) @ np.linalg.matrix_power(Z,p)\n",
    "\n",
    "def displacement_operators(d):\n",
    "    r\"\"\"\n",
    "    Returns a dictionary associating $(a, b)$ with $\\hat{D}_{a,b}$ for $a, b \\in [0, d)$.\n",
    "    \"\"\"\n",
    "    return np.array([displace(d, q, p) for q in range(d) for p in range(d)])\n",
    "\n",
    "def weyl_heisenberg_frame(fiducial):\n",
    "    r\"\"\"\n",
    "    Applies the $d^2$ displacement operators to a fiducial ket.\n",
    "    \"\"\"\n",
    "    d = fiducial.shape[0]\n",
    "    D = displacement_operators(d)\n",
    "    return (D @ fiducial).T.reshape(d, d**2)/np.sqrt(d)\n",
    "\n",
    "def weyl_heisenberg_povm(fiducial):\n",
    "    r\"\"\"\n",
    "    Generates a Weyl-Heisenberg POVM by applying the $d^2$ displacement operators to a\n",
    "    fiducial state and then, if the fiducial state is a ket $\\mid \\psi \\rangle$, forming the projector $\\mid \\psi \\rangle \\langle \\psi \\mid$, and normalizing by $\\frac{1}{d}$.\n",
    "\n",
    "    Note that if the fiducial state is a density matrix, it may be the case that it is invariant under some displacement operators, in which case you'll run into problems!\n",
    "    \"\"\"\n",
    "    if fiducial.shape[1] != 1:\n",
    "        d = fiducial.shape[0]\n",
    "        D = displacement_operators(d)\n",
    "        return np.array([O @ fiducial @ O.conj().T for O in D])/fiducial.shape[0]\n",
    "    else:\n",
    "        return frame_povm(weyl_heisenberg_frame(fiducial))"
   ]
  },
  {
   "cell_type": "code",
   "execution_count": 50,
   "id": "8b8bd70d",
   "metadata": {},
   "outputs": [],
   "source": [
    "#| export\n",
    "\n",
    "def symplectic_form(a, b):\n",
    "    q1, p1 = a\n",
    "    q2, p2 = b\n",
    "    return p2*q1 - p1*q2\n",
    "    \n",
    "N = 2\n",
    "tau = -np.exp(np.pi*1j/N)\n",
    "Nbar = 2*N if N % 2 == 0 else N\n",
    "a = np.array([1,2])\n",
    "b = np.array([0,1])\n",
    "q1, p1 = a\n",
    "q2, p2 = b\n",
    "one = displace(N, q2, p2) @ displace(N, q1, p1) \n",
    "ab = np.mod(a+b, Nbar)\n",
    "two = tau**symplectic_form(a,b)*displace(N, ab[0], ab[1])\n",
    "assert np.allclose(one, two)"
   ]
  },
  {
   "cell_type": "code",
   "execution_count": null,
   "id": "9f076a69",
   "metadata": {},
   "outputs": [],
   "source": []
  },
  {
   "cell_type": "code",
   "execution_count": 34,
   "id": "666e2a37",
   "metadata": {},
   "outputs": [],
   "source": [
    "#| hide\n",
    "import nbdev; nbdev.nbdev_export()"
   ]
  }
 ],
 "metadata": {
  "kernelspec": {
   "display_name": "Python 3 (ipykernel)",
   "language": "python",
   "name": "python3"
  },
  "language_info": {
   "codemirror_mode": {
    "name": "ipython",
    "version": 3
   },
   "file_extension": ".py",
   "mimetype": "text/x-python",
   "name": "python",
   "nbconvert_exporter": "python",
   "pygments_lexer": "ipython3",
   "version": "3.11.0"
  }
 },
 "nbformat": 4,
 "nbformat_minor": 5
}
