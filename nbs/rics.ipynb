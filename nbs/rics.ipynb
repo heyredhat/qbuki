{
 "cells": [
  {
   "cell_type": "code",
   "execution_count": null,
   "id": "bd56d29a",
   "metadata": {},
   "outputs": [],
   "source": [
    "#| hide\n",
    "%load_ext autoreload\n",
    "%autoreload 2"
   ]
  },
  {
   "cell_type": "markdown",
   "id": "e4cb9d4f",
   "metadata": {},
   "source": [
    "# RICs\n",
    "\n",
    "> description."
   ]
  },
  {
   "cell_type": "code",
   "execution_count": null,
   "id": "fb6d4e64",
   "metadata": {},
   "outputs": [],
   "source": [
    "#| default_exp rics"
   ]
  },
  {
   "cell_type": "code",
   "execution_count": null,
   "id": "060a0878",
   "metadata": {},
   "outputs": [],
   "source": [
    "#| hide\n",
    "from nbdev.showdoc import *\n",
    "from fastcore.test import *"
   ]
  },
  {
   "cell_type": "code",
   "execution_count": null,
   "id": "9790cf80",
   "metadata": {},
   "outputs": [],
   "source": [
    "#| export\n",
    "\n",
    "import numpy as np\n",
    "from qbuki.utils import *\n",
    "import sympy\n",
    "import sympy.liealgebras.type_a\n",
    "\n",
    "def mercedes_benz_frame():\n",
    "    return np.array([[r.real, r.imag] for r in [np.exp(2j*np.pi*i/3) for i in range(3)]]).T*np.sqrt(2/3)\n",
    "\n",
    "def circular_shifts(v):\n",
    "    shifts = [v]\n",
    "    for i in range(len(v)-1):\n",
    "        u = shifts[-1][:]\n",
    "        u.insert(0, u.pop()) \n",
    "        shifts.append(u)\n",
    "    return shifts\n",
    "\n",
    "def icosahedron_vertices():\n",
    "    phi = (1+np.sqrt(5))/2\n",
    "    return [np.array(v) for v in \n",
    "               circular_shifts([0, 1, phi]) + \\\n",
    "               circular_shifts([0, -1, -phi]) + \\\n",
    "               circular_shifts([0, 1, -phi]) + \\\n",
    "               circular_shifts([0, -1, phi])]\n",
    "\n",
    "def icosahedron_frame():\n",
    "    vertices = icosahedron_vertices()\n",
    "    keep = []\n",
    "    for i, a in enumerate(vertices):\n",
    "        for j, b in enumerate(vertices):\n",
    "            if i != j and np.allclose(a, -b) and j not in keep:\n",
    "                keep.append(i)\n",
    "    vertices = [normalize(e) for i, e in enumerate(vertices) if i in keep]\n",
    "    return np.array(vertices).T*np.sqrt(3/len(vertices))\n",
    "\n",
    "def petersen_frame():\n",
    "    petersen_vertices = [\"u1\", \"u2\", \"u3\", \"u4\", \"u5\", \"v1\", \"v2\", \"v3\", \"v4\", \"v5\"]\n",
    "    petersen_graph = \\\n",
    "        {\"u1\": [\"v1\", \"u2\", \"u5\"],\n",
    "        \"u2\": [\"u1\", \"v2\", \"u3\"],\n",
    "        \"u3\": [\"u2\", \"v3\", \"u4\"],\n",
    "        \"u4\": [\"u3\", \"v4\", \"u5\"],\n",
    "        \"u5\": [\"u4\", \"v5\", \"u1\"],\n",
    "        \"v1\": [\"u1\", \"v4\", \"v3\"],\n",
    "        \"v2\": [\"u2\", \"v4\", \"v5\"],\n",
    "        \"v3\": [\"v5\", \"v1\", \"u3\"],\n",
    "        \"v4\": [\"u4\", \"v1\", \"v2\"],\n",
    "        \"v5\": [\"u5\", \"v3\", \"v2\"]}\n",
    "    petersen_gram = np.array([[1 if a == b else (\\\n",
    "                               -2/3 if b in petersen_graph[a] else \\\n",
    "                               1/6) for b in petersen_vertices]\\\n",
    "                                        for a in petersen_vertices]) \n",
    "    U, D, V = np.linalg.svd(petersen_gram)\n",
    "    return (V[:4].T @ np.sqrt(np.diag(D[:4]))*np.sqrt(4/10)).T\n",
    "\n",
    "def honey_frame(d, full=False):\n",
    "    n = d*(d+1)/2\n",
    "    A = sympy.liealgebras.type_a.TypeA(d)\n",
    "    roots = [np.array(root) for root in A.positive_roots().values()]\n",
    "    if full:\n",
    "        roots.extend([-r for r in roots])\n",
    "    U, D, V = np.linalg.svd(np.array(roots).T)\n",
    "    return np.array([state/np.linalg.norm(state) for state in V[:d].T]).T*np.sqrt(d/n)\n"
   ]
  },
  {
   "cell_type": "code",
   "execution_count": null,
   "id": "666e2a37",
   "metadata": {},
   "outputs": [],
   "source": [
    "#| hide\n",
    "import nbdev; nbdev.nbdev_export()"
   ]
  }
 ],
 "metadata": {
  "kernelspec": {
   "display_name": "Python 3 (ipykernel)",
   "language": "python",
   "name": "python3"
  },
  "language_info": {
   "codemirror_mode": {
    "name": "ipython",
    "version": 3
   },
   "file_extension": ".py",
   "mimetype": "text/x-python",
   "name": "python",
   "nbconvert_exporter": "python",
   "pygments_lexer": "ipython3",
   "version": "3.11.0"
  }
 },
 "nbformat": 4,
 "nbformat_minor": 5
}
