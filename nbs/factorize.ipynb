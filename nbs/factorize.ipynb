{
 "cells": [
  {
   "cell_type": "code",
   "execution_count": null,
   "id": "bd56d29a",
   "metadata": {},
   "outputs": [
    {
     "name": "stdout",
     "output_type": "stream",
     "text": [
      "The autoreload extension is already loaded. To reload it, use:\n",
      "  %reload_ext autoreload\n"
     ]
    }
   ],
   "source": [
    "#| hide\n",
    "%load_ext autoreload\n",
    "%autoreload 2"
   ]
  },
  {
   "cell_type": "markdown",
   "id": "e4cb9d4f",
   "metadata": {},
   "source": [
    "# Matrix factorizations\n",
    "\n",
    "> Especially full rank."
   ]
  },
  {
   "cell_type": "code",
   "execution_count": null,
   "id": "fb6d4e64",
   "metadata": {},
   "outputs": [],
   "source": [
    "#| default_exp factorize"
   ]
  },
  {
   "cell_type": "code",
   "execution_count": null,
   "id": "060a0878",
   "metadata": {},
   "outputs": [],
   "source": [
    "#| hide\n",
    "from nbdev.showdoc import *\n",
    "from fastcore.test import *"
   ]
  },
  {
   "cell_type": "code",
   "execution_count": null,
   "id": "7d028724",
   "metadata": {},
   "outputs": [],
   "source": [
    "#| export\n",
    "import numpy as np"
   ]
  },
  {
   "cell_type": "code",
   "execution_count": null,
   "id": "9790cf80",
   "metadata": {},
   "outputs": [],
   "source": [
    "#| export\n",
    "def full_rank_factorization(M):\n",
    "    U, D, V = np.linalg.svd(M)\n",
    "    m = (np.isclose(D, 0)).argmax()\n",
    "    m = m if m != 0 else len(D)\n",
    "    sqrtD = np.sqrt(np.diag(D[:m]))\n",
    "    return U[:,:m] @ sqrtD, sqrtD @ V[:m,:]"
   ]
  },
  {
   "cell_type": "code",
   "execution_count": null,
   "id": "666e2a37",
   "metadata": {},
   "outputs": [],
   "source": [
    "#| hide\n",
    "import nbdev; nbdev.nbdev_export()"
   ]
  }
 ],
 "metadata": {
  "kernelspec": {
   "display_name": "python3",
   "language": "python",
   "name": "python3"
  }
 },
 "nbformat": 4,
 "nbformat_minor": 5
}
