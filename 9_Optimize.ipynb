{
 "cells": [
  {
   "cell_type": "code",
   "execution_count": 1,
   "metadata": {},
   "outputs": [],
   "source": [
    "from qbuki import *"
   ]
  },
  {
   "cell_type": "code",
   "execution_count": 8,
   "metadata": {},
   "outputs": [],
   "source": [
    "R = min_quantumness_parallel(2, field=\"complex\", norm=\"p2\", rank1=True, return_povm=True)"
   ]
  },
  {
   "cell_type": "code",
   "execution_count": 9,
   "metadata": {},
   "outputs": [
    {
     "data": {
      "text/plain": [
       "array([[[ 0.181+0.j   ,  0.032+0.238j],\n",
       "        [ 0.032-0.238j,  0.319+0.j   ]],\n",
       "\n",
       "       [[ 0.094+0.j   , -0.161-0.111j],\n",
       "        [-0.161+0.111j,  0.406+0.j   ]],\n",
       "\n",
       "       [[ 0.483+0.j   , -0.091-0.008j],\n",
       "        [-0.091+0.008j,  0.017+0.j   ]],\n",
       "\n",
       "       [[ 0.242+0.j   ,  0.22 -0.119j],\n",
       "        [ 0.22 +0.119j,  0.258+0.j   ]]])"
      ]
     },
     "execution_count": 9,
     "metadata": {},
     "output_type": "execute_result"
    }
   ],
   "source": [
    "R"
   ]
  },
  {
   "cell_type": "code",
   "execution_count": 17,
   "metadata": {},
   "outputs": [
    {
     "data": {
      "text/plain": [
       "array([[1.+0.j, 0.+0.j],\n",
       "       [0.-0.j, 1.+0.j]])"
      ]
     },
     "execution_count": 17,
     "metadata": {},
     "output_type": "execute_result"
    }
   ],
   "source": [
    "sum(R)"
   ]
  },
  {
   "cell_type": "code",
   "execution_count": 18,
   "metadata": {},
   "outputs": [
    {
     "data": {
      "text/plain": [
       "array([[0.25 +0.j, 0.083-0.j, 0.083-0.j, 0.083-0.j],\n",
       "       [0.083+0.j, 0.25 +0.j, 0.083+0.j, 0.083-0.j],\n",
       "       [0.083+0.j, 0.083-0.j, 0.25 +0.j, 0.083-0.j],\n",
       "       [0.083+0.j, 0.083+0.j, 0.083+0.j, 0.25 +0.j]])"
      ]
     },
     "execution_count": 18,
     "metadata": {},
     "output_type": "execute_result"
    }
   ],
   "source": [
    "R^R"
   ]
  },
  {
   "cell_type": "code",
   "execution_count": 79,
   "metadata": {},
   "outputs": [
    {
     "data": {
      "text/plain": [
       "array([[[ 0.295, -0.277],\n",
       "        [-0.277,  0.384]],\n",
       "\n",
       "       [[ 0.297, -0.072],\n",
       "        [-0.072,  0.041]],\n",
       "\n",
       "       [[ 0.084, -0.009],\n",
       "        [-0.009,  0.118]],\n",
       "\n",
       "       [[ 0.324,  0.358],\n",
       "        [ 0.358,  0.457]]])"
      ]
     },
     "execution_count": 79,
     "metadata": {},
     "output_type": "execute_result"
    }
   ],
   "source": [
    "E = np.transpose(K, (0,2,1)) @ K; E"
   ]
  },
  {
   "cell_type": "code",
   "execution_count": 101,
   "metadata": {},
   "outputs": [
    {
     "data": {
      "text/plain": [
       "array([0.389, 0.1  , 0.021, 0.571])"
      ]
     },
     "execution_count": 101,
     "metadata": {},
     "output_type": "execute_result"
    }
   ],
   "source": [
    "np.einsum(\"...ji, ...jk, ...lk, ...li\", K, K, K, K)\n",
    "\n",
    "\n",
    "#ijk, mkj\n"
   ]
  },
  {
   "cell_type": "code",
   "execution_count": 13,
   "metadata": {},
   "outputs": [],
   "source": [
    "K = rand_kraus(2, 4)"
   ]
  },
  {
   "cell_type": "code",
   "execution_count": 15,
   "metadata": {},
   "outputs": [
    {
     "data": {
      "text/plain": [
       "array([[0.335+0.j, 0.335+0.j, 0.335+0.j, 0.335+0.j],\n",
       "       [0.442+0.j, 0.442+0.j, 0.442+0.j, 0.442+0.j],\n",
       "       [0.839+0.j, 0.839+0.j, 0.839+0.j, 0.839+0.j],\n",
       "       [0.384+0.j, 0.384+0.j, 0.384+0.j, 0.384+0.j]])"
      ]
     },
     "execution_count": 15,
     "metadata": {},
     "output_type": "execute_result"
    }
   ],
   "source": [
    "np.tile(np.einsum(\"aji, aji -> a\", K.conj(), K), (K.shape[0],1)).T"
   ]
  },
  {
   "cell_type": "code",
   "execution_count": 16,
   "metadata": {},
   "outputs": [
    {
     "data": {
      "text/plain": [
       "[(0.3348097619502003+0j),\n",
       " (0.4421153922135647+0j),\n",
       " (0.839097080392446+0j),\n",
       " (0.3839777654437869+0j)]"
      ]
     },
     "execution_count": 16,
     "metadata": {},
     "output_type": "execute_result"
    }
   ],
   "source": [
    "[(k.conj().T @ k).trace() for k in K]"
   ]
  },
  {
   "cell_type": "code",
   "execution_count": 142,
   "metadata": {},
   "outputs": [
    {
     "data": {
      "text/plain": [
       "0.6707370521027816"
      ]
     },
     "execution_count": 142,
     "metadata": {},
     "output_type": "execute_result"
    }
   ],
   "source": [
    "np.sqrt(K[0].trace())"
   ]
  },
  {
   "cell_type": "code",
   "execution_count": 135,
   "metadata": {},
   "outputs": [
    {
     "name": "stdout",
     "output_type": "stream",
     "text": [
      "145 µs ± 10.6 µs per loop (mean ± std. dev. of 7 runs, 10000 loops each)\n"
     ]
    }
   ],
   "source": [
    "%timeit np.einsum(\"aji, ajk, blk, bli -> ab\", *[K]*4, optimize='optimal')\n"
   ]
  },
  {
   "cell_type": "code",
   "execution_count": 51,
   "metadata": {},
   "outputs": [
    {
     "data": {
      "text/plain": [
       "array([[0.389, 0.143, 0.075, 0.073],\n",
       "       [0.143, 0.1  , 0.031, 0.063],\n",
       "       [0.075, 0.031, 0.021, 0.075],\n",
       "       [0.073, 0.063, 0.075, 0.571]])"
      ]
     },
     "execution_count": 51,
     "metadata": {},
     "output_type": "execute_result"
    }
   ],
   "source": [
    "A = E.reshape(E.shape[0], np.prod(E.shape[1:]))\n",
    "A @ A.T"
   ]
  },
  {
   "cell_type": "code",
   "execution_count": 54,
   "metadata": {},
   "outputs": [
    {
     "data": {
      "text/plain": [
       "array([[0.389, 0.143, 0.075, 0.073],\n",
       "       [0.143, 0.1  , 0.031, 0.063],\n",
       "       [0.075, 0.031, 0.021, 0.075],\n",
       "       [0.073, 0.063, 0.075, 0.571]])"
      ]
     },
     "execution_count": 54,
     "metadata": {},
     "output_type": "execute_result"
    }
   ],
   "source": [
    "np.einsum(\"ijk, mkj\", E, E)"
   ]
  },
  {
   "cell_type": "code",
   "execution_count": 18,
   "metadata": {},
   "outputs": [
    {
     "data": {
      "text/plain": [
       "array([[0.286+0.j, 0.169-0.j, 0.135+0.j, 0.134+0.j],\n",
       "       [0.223-0.j, 0.23 +0.j, 0.204+0.j, 0.246-0.j],\n",
       "       [0.338+0.j, 0.388-0.j, 0.519-0.j, 0.31 -0.j],\n",
       "       [0.153+0.j, 0.213-0.j, 0.142+0.j, 0.311-0.j]])"
      ]
     },
     "execution_count": 18,
     "metadata": {},
     "output_type": "execute_result"
    }
   ],
   "source": [
    "W = Operators(np.array([k.conj().T @ k for k in K]))\n",
    "W|W"
   ]
  },
  {
   "cell_type": "code",
   "execution_count": 20,
   "metadata": {},
   "outputs": [
    {
     "data": {
      "text/plain": [
       "array([[0.286+0.j, 0.169-0.j, 0.135+0.j, 0.134+0.j],\n",
       "       [0.223-0.j, 0.23 -0.j, 0.204+0.j, 0.246+0.j],\n",
       "       [0.338-0.j, 0.388-0.j, 0.519+0.j, 0.31 +0.j],\n",
       "       [0.153-0.j, 0.213-0.j, 0.142-0.j, 0.311-0.j]])"
      ]
     },
     "execution_count": 20,
     "metadata": {},
     "output_type": "execute_result"
    }
   ],
   "source": [
    "np.einsum(\"aji, ajk, blk, bli -> ab\", K.conj(), K, K.conj(), K)/np.tile(np.einsum(\"aji, aji -> a\", K.conj(), K), (K.shape[0],1))\n"
   ]
  },
  {
   "cell_type": "code",
   "execution_count": 171,
   "metadata": {},
   "outputs": [
    {
     "data": {
      "text/plain": [
       "0.9999999999999996"
      ]
     },
     "execution_count": 171,
     "metadata": {},
     "output_type": "execute_result"
    }
   ],
   "source": [
    "sum((W|W)[:,0])"
   ]
  },
  {
   "cell_type": "markdown",
   "metadata": {},
   "source": []
  }
 ],
 "metadata": {
  "interpreter": {
   "hash": "cbb79368fd0a6163e8e4ec12cb943663a1a9bd9955b208dd67f1d4197a8f66bb"
  },
  "kernelspec": {
   "display_name": "Python 3.7.4 ('base')",
   "language": "python",
   "name": "python3"
  },
  "language_info": {
   "codemirror_mode": {
    "name": "ipython",
    "version": 3
   },
   "file_extension": ".py",
   "mimetype": "text/x-python",
   "name": "python",
   "nbconvert_exporter": "python",
   "pygments_lexer": "ipython3",
   "version": "3.7.4"
  },
  "orig_nbformat": 4
 },
 "nbformat": 4,
 "nbformat_minor": 2
}
