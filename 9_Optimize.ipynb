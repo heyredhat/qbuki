{
 "cells": [
  {
   "cell_type": "code",
   "execution_count": 1,
   "metadata": {},
   "outputs": [],
   "source": [
    "from qbuki import *"
   ]
  },
  {
   "cell_type": "code",
   "execution_count": 8,
   "metadata": {},
   "outputs": [],
   "source": [
    "R = min_quantumness(4, n=10, norm=\"p2\", field=\"real\", parallel=False, rank1=True)"
   ]
  },
  {
   "cell_type": "code",
   "execution_count": 9,
   "metadata": {},
   "outputs": [
    {
     "data": {
      "text/plain": [
       "6.615444781524884"
      ]
     },
     "execution_count": 9,
     "metadata": {},
     "output_type": "execute_result"
    }
   ],
   "source": [
    "quantumness(frame_povm(R))"
   ]
  },
  {
   "cell_type": "code",
   "execution_count": 10,
   "metadata": {},
   "outputs": [],
   "source": [
    "W = min_quantumness(4, n=10, norm=\"p2\", field=\"real\", parallel=False, rank1=False)"
   ]
  },
  {
   "cell_type": "code",
   "execution_count": 11,
   "metadata": {},
   "outputs": [
    {
     "data": {
      "text/plain": [
       "6.6154447827517044"
      ]
     },
     "execution_count": 11,
     "metadata": {},
     "output_type": "execute_result"
    }
   ],
   "source": [
    "quantumness(W)"
   ]
  },
  {
   "cell_type": "code",
   "execution_count": 7,
   "metadata": {},
   "outputs": [
    {
     "data": {
      "text/plain": [
       "[array([0.667, 0.   ]), array([0.667, 0.   ]), array([0.667, 0.   ])]"
      ]
     },
     "execution_count": 7,
     "metadata": {},
     "output_type": "execute_result"
    }
   ],
   "source": [
    "[np.linalg.svd(w)[1] for w in W]"
   ]
  },
  {
   "cell_type": "code",
   "execution_count": 35,
   "metadata": {},
   "outputs": [
    {
     "data": {
      "text/plain": [
       "array([[0.572, 0.424, 0.371, 0.093],\n",
       "       [0.211, 0.296, 0.154, 0.081],\n",
       "       [0.11 , 0.092, 0.104, 0.095],\n",
       "       [0.107, 0.188, 0.37 , 0.73 ]])"
      ]
     },
     "execution_count": 35,
     "metadata": {},
     "output_type": "execute_result"
    }
   ],
   "source": [
    "np.array([[(a.T @ a @ b.T @ b).trace()/(b.T @ b).trace() for b in K] for a in K])"
   ]
  },
  {
   "cell_type": "code",
   "execution_count": 79,
   "metadata": {},
   "outputs": [
    {
     "data": {
      "text/plain": [
       "array([[[ 0.295, -0.277],\n",
       "        [-0.277,  0.384]],\n",
       "\n",
       "       [[ 0.297, -0.072],\n",
       "        [-0.072,  0.041]],\n",
       "\n",
       "       [[ 0.084, -0.009],\n",
       "        [-0.009,  0.118]],\n",
       "\n",
       "       [[ 0.324,  0.358],\n",
       "        [ 0.358,  0.457]]])"
      ]
     },
     "execution_count": 79,
     "metadata": {},
     "output_type": "execute_result"
    }
   ],
   "source": [
    "E = np.transpose(K, (0,2,1)) @ K; E"
   ]
  },
  {
   "cell_type": "code",
   "execution_count": 101,
   "metadata": {},
   "outputs": [
    {
     "data": {
      "text/plain": [
       "array([0.389, 0.1  , 0.021, 0.571])"
      ]
     },
     "execution_count": 101,
     "metadata": {},
     "output_type": "execute_result"
    }
   ],
   "source": [
    "np.einsum(\"...ji, ...jk, ...lk, ...li\", K, K, K, K)\n",
    "\n",
    "\n",
    "#ijk, mkj\n"
   ]
  },
  {
   "cell_type": "code",
   "execution_count": 166,
   "metadata": {},
   "outputs": [
    {
     "data": {
      "text/plain": [
       "array([[0.572, 0.211, 0.11 , 0.107],\n",
       "       [0.424, 0.296, 0.092, 0.188],\n",
       "       [0.371, 0.154, 0.104, 0.37 ],\n",
       "       [0.093, 0.081, 0.095, 0.73 ]])"
      ]
     },
     "execution_count": 166,
     "metadata": {},
     "output_type": "execute_result"
    }
   ],
   "source": []
  },
  {
   "cell_type": "code",
   "execution_count": 165,
   "metadata": {},
   "outputs": [
    {
     "data": {
      "text/plain": [
       "array([[0.679, 0.679, 0.679, 0.679],\n",
       "       [0.338, 0.338, 0.338, 0.338],\n",
       "       [0.201, 0.201, 0.201, 0.201],\n",
       "       [0.781, 0.781, 0.781, 0.781]])"
      ]
     },
     "execution_count": 165,
     "metadata": {},
     "output_type": "execute_result"
    }
   ],
   "source": [
    "np.tile(np.einsum(\"aji, aji -> a\", K, K), (K.shape[0],1)).T"
   ]
  },
  {
   "cell_type": "code",
   "execution_count": 163,
   "metadata": {},
   "outputs": [
    {
     "data": {
      "text/plain": [
       "(4, 2, 2)"
      ]
     },
     "execution_count": 163,
     "metadata": {},
     "output_type": "execute_result"
    }
   ],
   "source": [
    "K.shape"
   ]
  },
  {
   "cell_type": "code",
   "execution_count": 142,
   "metadata": {},
   "outputs": [
    {
     "data": {
      "text/plain": [
       "0.6707370521027816"
      ]
     },
     "execution_count": 142,
     "metadata": {},
     "output_type": "execute_result"
    }
   ],
   "source": [
    "np.sqrt(K[0].trace())"
   ]
  },
  {
   "cell_type": "code",
   "execution_count": 135,
   "metadata": {},
   "outputs": [
    {
     "name": "stdout",
     "output_type": "stream",
     "text": [
      "145 µs ± 10.6 µs per loop (mean ± std. dev. of 7 runs, 10000 loops each)\n"
     ]
    }
   ],
   "source": [
    "%timeit np.einsum(\"aji, ajk, blk, bli -> ab\", *[K]*4, optimize='optimal')\n"
   ]
  },
  {
   "cell_type": "code",
   "execution_count": 51,
   "metadata": {},
   "outputs": [
    {
     "data": {
      "text/plain": [
       "array([[0.389, 0.143, 0.075, 0.073],\n",
       "       [0.143, 0.1  , 0.031, 0.063],\n",
       "       [0.075, 0.031, 0.021, 0.075],\n",
       "       [0.073, 0.063, 0.075, 0.571]])"
      ]
     },
     "execution_count": 51,
     "metadata": {},
     "output_type": "execute_result"
    }
   ],
   "source": [
    "A = E.reshape(E.shape[0], np.prod(E.shape[1:]))\n",
    "A @ A.T"
   ]
  },
  {
   "cell_type": "code",
   "execution_count": 54,
   "metadata": {},
   "outputs": [
    {
     "data": {
      "text/plain": [
       "array([[0.389, 0.143, 0.075, 0.073],\n",
       "       [0.143, 0.1  , 0.031, 0.063],\n",
       "       [0.075, 0.031, 0.021, 0.075],\n",
       "       [0.073, 0.063, 0.075, 0.571]])"
      ]
     },
     "execution_count": 54,
     "metadata": {},
     "output_type": "execute_result"
    }
   ],
   "source": [
    "np.einsum(\"ijk, mkj\", E, E)"
   ]
  },
  {
   "cell_type": "code",
   "execution_count": 167,
   "metadata": {},
   "outputs": [
    {
     "data": {
      "text/plain": [
       "array([[0.572, 0.424, 0.371, 0.093],\n",
       "       [0.211, 0.296, 0.154, 0.081],\n",
       "       [0.11 , 0.092, 0.104, 0.095],\n",
       "       [0.107, 0.188, 0.37 , 0.73 ]])"
      ]
     },
     "execution_count": 167,
     "metadata": {},
     "output_type": "execute_result"
    }
   ],
   "source": [
    "W = Operators(np.array([k.T @ k for k in K]))\n",
    "W|W"
   ]
  },
  {
   "cell_type": "code",
   "execution_count": 173,
   "metadata": {},
   "outputs": [
    {
     "data": {
      "text/plain": [
       "array([[0.572, 0.424, 0.371, 0.093],\n",
       "       [0.211, 0.296, 0.154, 0.081],\n",
       "       [0.11 , 0.092, 0.104, 0.095],\n",
       "       [0.107, 0.188, 0.37 , 0.73 ]])"
      ]
     },
     "execution_count": 173,
     "metadata": {},
     "output_type": "execute_result"
    }
   ],
   "source": [
    "np.einsum(\"aji, ajk, blk, bli -> ab\", *[K]*4)/np.tile(np.einsum(\"aji, aji -> a\", K, K), (K.shape[0],1))\n"
   ]
  },
  {
   "cell_type": "code",
   "execution_count": 171,
   "metadata": {},
   "outputs": [
    {
     "data": {
      "text/plain": [
       "0.9999999999999996"
      ]
     },
     "execution_count": 171,
     "metadata": {},
     "output_type": "execute_result"
    }
   ],
   "source": [
    "sum((W|W)[:,0])"
   ]
  },
  {
   "cell_type": "markdown",
   "metadata": {},
   "source": []
  }
 ],
 "metadata": {
  "interpreter": {
   "hash": "cbb79368fd0a6163e8e4ec12cb943663a1a9bd9955b208dd67f1d4197a8f66bb"
  },
  "kernelspec": {
   "display_name": "Python 3.7.4 ('base')",
   "language": "python",
   "name": "python3"
  },
  "language_info": {
   "codemirror_mode": {
    "name": "ipython",
    "version": 3
   },
   "file_extension": ".py",
   "mimetype": "text/x-python",
   "name": "python",
   "nbconvert_exporter": "python",
   "pygments_lexer": "ipython3",
   "version": "3.7.4"
  },
  "orig_nbformat": 4
 },
 "nbformat": 4,
 "nbformat_minor": 2
}
